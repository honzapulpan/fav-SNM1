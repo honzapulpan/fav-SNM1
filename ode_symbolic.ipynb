{
 "cells": [
  {
   "cell_type": "code",
   "execution_count": 10,
   "metadata": {},
   "outputs": [
    {
     "data": {
      "image/png": "[encoded data removed]",
      "text/latex": [
       "$$- t^{2} - 1000 \\frac{d}{d t} u{\\left (t \\right )} + \\frac{d^{2}}{d t^{2}} u{\\left (t \\right )} = 0$$"
      ],
      "text/plain": [
       "                         2          \n",
       "   2        d           d           \n",
       "- t  - 1000⋅──(u(t)) + ───(u(t)) = 0\n",
       "            dt           2          \n",
       "                       dt           "
      ]
     },
     "metadata": {},
     "output_type": "display_data"
    }
   ],
   "source": [
    "# definice funkce\n",
    "\n",
    "import sympy as sp\n",
    "import numpy as np\n",
    "import matplotlib.pyplot as plt\n",
    "sp.init_printing()\n",
    "\n",
    "t, l, k = sp.symbols('t lambda kappa', positive=True)\n",
    "C1, C2 = sp.symbols('C1, C2')\n",
    "u = sp.Function('u')\n",
    "\n",
    "p = 1\n",
    "q = -1000\n",
    "\n",
    "# pravou stranu je třeba převést nalevo :-) V tomhle případě t**2\n",
    "eqn = sp.Eq(p * sp.diff(u(t), t, 2) + q * sp.diff(u(t), t) - t**2)\n",
    "display(eqn)"
   ]
  },
  {
   "cell_type": "code",
   "execution_count": 11,
   "metadata": {},
   "outputs": [
    {
     "data": {
      "image/png": "[encoded data removed]",
      "text/latex": [
       "$$\\frac{- t \\left(1 - e^{1000}\\right) \\left(500000 t^{2} + 1500 t + 3\\right) - 501503 e^{1000 t} + 501503}{1500000000 \\left(1 - e^{1000}\\right)}$$"
      ],
      "text/plain": [
       "    ⎛     1000⎞ ⎛        2             ⎞           1000⋅t         \n",
       "- t⋅⎝1 - ℯ    ⎠⋅⎝500000⋅t  + 1500⋅t + 3⎠ - 501503⋅ℯ       + 501503\n",
       "──────────────────────────────────────────────────────────────────\n",
       "                                 ⎛     1000⎞                      \n",
       "                      1500000000⋅⎝1 - ℯ    ⎠                      "
      ]
     },
     "metadata": {},
     "output_type": "display_data"
    }
   ],
   "source": [
    "# analytické řešení ODE \n",
    "u_sol = sp.dsolve(eqn).rhs #obecne reseni\n",
    "cnd1 = sp.Eq(u_sol.subs(t, 0), 0) # okrajova podminka\n",
    "cnd2 = sp.Eq(u_sol.subs(t, 1), 0) # okrajova podminka\n",
    "C1C2_sol = sp.solve([cnd1, cnd2], (C1, C2)) # reseni okrajove ulohy\n",
    "a_sol = sp.simplify(u_sol.subs(C1C2_sol))\n",
    "display(a_sol)"
   ]
  },
  {
   "cell_type": "code",
   "execution_count": 12,
   "metadata": {},
   "outputs": [],
   "source": [
    "# převod na numpy funkci\n",
    "n_sol = sp.lambdify(t, a_sol, 'numpy')"
   ]
  },
  {
   "cell_type": "code",
   "execution_count": 13,
   "metadata": {},
   "outputs": [
    {
     "name": "stderr",
     "output_type": "stream",
     "text": [
      "<string>:2: RuntimeWarning: overflow encountered in exp\n",
      "<string>:2: RuntimeWarning: invalid value encountered in multiply\n",
      "<string>:2: RuntimeWarning: overflow encountered in multiply\n",
      "<string>:2: RuntimeWarning: invalid value encountered in subtract\n",
      "<string>:2: RuntimeWarning: invalid value encountered in true_divide\n"
     ]
    },
    {
     "data": {
      "image/png": "[encoded data removed]",
      "text/plain": [
       "<Figure size 432x288 with 1 Axes>"
      ]
     },
     "metadata": {},
     "output_type": "display_data"
    }
   ],
   "source": [
    "t = np.linspace(0,1,100)\n",
    "u_num = n_sol(t)\n",
    "plt.plot(t,u_num)\n",
    "plt.show()"
   ]
  },
  {
   "cell_type": "code",
   "execution_count": 21,
   "metadata": {},
   "outputs": [
    {
     "data": {
      "image/png": "[encoded data removed]",
      "text/latex": [
       "$$\\frac{5 \\left(5 \\sqrt{2} \\left(- \\sqrt{\\sqrt{5} + 5} + \\sqrt{- \\sqrt{5} + 5}\\right) + 2 \\pi \\left(1 + 7 \\sqrt{5}\\right)\\right)}{16 \\pi^{2}}$$"
      ],
      "text/plain": [
       "  ⎛     ⎛    ________     _________⎞                 ⎞\n",
       "5⋅⎝5⋅√2⋅⎝- ╲╱ √5 + 5  + ╲╱ -√5 + 5 ⎠ + 2⋅π⋅(1 + 7⋅√5)⎠\n",
       "──────────────────────────────────────────────────────\n",
       "                            2                         \n",
       "                        16⋅π                          "
      ]
     },
     "execution_count": 21,
     "metadata": {},
     "output_type": "execute_result"
    }
   ],
   "source": [
    "sp.simplify(sp.integrate((t+2)*sp.sin(4*sp.pi*t/10), (t, 1, 2)))"
   ]
  },
  {
   "cell_type": "code",
   "execution_count": null,
   "metadata": {},
   "outputs": [],
   "source": [
    "sin n pi x/l"
   ]
  }
 ],
 "metadata": {
  "kernelspec": {
   "display_name": "Python 3",
   "language": "python",
   "name": "python3"
  },
  "language_info": {
   "codemirror_mode": {
    "name": "ipython",
    "version": 3
   },
   "file_extension": ".py",
   "mimetype": "text/x-python",
   "name": "python",
   "nbconvert_exporter": "python",
   "pygments_lexer": "ipython3",
   "version": "3.6.4"
  }
 },
 "nbformat": 4,
 "nbformat_minor": 4
}
