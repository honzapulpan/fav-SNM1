{
 "cells": [
  {
   "cell_type": "code",
   "execution_count": 1,
   "metadata": {},
   "outputs": [],
   "source": [
    "import numpy as np\n",
    "from scipy.linalg import toeplitz\n",
    "\n",
    "N = 10000\n",
    "h = 1/N\n",
    "k = 1\n",
    "a = 1"
   ]
  },
  {
   "cell_type": "code",
   "execution_count": 2,
   "metadata": {},
   "outputs": [
    {
     "name": "stdout",
     "output_type": "stream",
     "text": [
      "CPU times: user 678 µs, sys: 571 µs, total: 1.25 ms\n",
      "Wall time: 783 µs\n"
     ]
    }
   ],
   "source": [
    "%%time\n",
    "first_row = np.zeros(N-1)\n",
    "first_row[0] = -(2*k)/h**2\n",
    "first_row[1] = k/h**2+a/(2*h)\n",
    "first_col = np.zeros(N-1)\n",
    "first_col[0] = -(2*k)/h**2\n",
    "first_col[1] = a/(2*h)"
   ]
  },
  {
   "cell_type": "code",
   "execution_count": 3,
   "metadata": {},
   "outputs": [
    {
     "name": "stdout",
     "output_type": "stream",
     "text": [
      "[[-2.00000e+08  5.00000e+03  0.00000e+00 ...  0.00000e+00  0.00000e+00\n",
      "   0.00000e+00]\n",
      " [ 1.00005e+08 -2.00000e+08  5.00000e+03 ...  0.00000e+00  0.00000e+00\n",
      "   0.00000e+00]\n",
      " [ 0.00000e+00  1.00005e+08 -2.00000e+08 ...  0.00000e+00  0.00000e+00\n",
      "   0.00000e+00]\n",
      " ...\n",
      " [ 0.00000e+00  0.00000e+00  0.00000e+00 ... -2.00000e+08  5.00000e+03\n",
      "   0.00000e+00]\n",
      " [ 0.00000e+00  0.00000e+00  0.00000e+00 ...  1.00005e+08 -2.00000e+08\n",
      "   5.00000e+03]\n",
      " [ 0.00000e+00  0.00000e+00  0.00000e+00 ...  0.00000e+00  1.00005e+08\n",
      "  -2.00000e+08]]\n",
      "CPU times: user 284 ms, sys: 378 ms, total: 662 ms\n",
      "Wall time: 851 ms\n"
     ]
    }
   ],
   "source": [
    "%%time\n",
    "AAA = toeplitz(first_row, first_col)\n",
    "print(AAA)"
   ]
  },
  {
   "cell_type": "code",
   "execution_count": 4,
   "metadata": {},
   "outputs": [
    {
     "name": "stdout",
     "output_type": "stream",
     "text": [
      "[[-2.00000e+08  1.00005e+08  0.00000e+00 ...  0.00000e+00  0.00000e+00\n",
      "   0.00000e+00]\n",
      " [ 9.99950e+07 -2.00000e+08  5.00000e+03 ...  0.00000e+00  0.00000e+00\n",
      "   0.00000e+00]\n",
      " [ 0.00000e+00  9.99950e+07 -2.00000e+08 ...  0.00000e+00  0.00000e+00\n",
      "   0.00000e+00]\n",
      " ...\n",
      " [ 0.00000e+00  0.00000e+00  0.00000e+00 ... -2.00000e+08  5.00000e+03\n",
      "   0.00000e+00]\n",
      " [ 0.00000e+00  0.00000e+00  0.00000e+00 ...  9.99950e+07 -2.00000e+08\n",
      "   5.00000e+03]\n",
      " [ 0.00000e+00  0.00000e+00  0.00000e+00 ...  0.00000e+00  9.99950e+07\n",
      "  -2.00000e+08]]\n",
      "CPU times: user 31.4 ms, sys: 26 ms, total: 57.3 ms\n",
      "Wall time: 53.4 ms\n"
     ]
    }
   ],
   "source": [
    "%%time\n",
    "A = np.zeros([N-1,N-1])\n",
    "A[0,0] = -(2*k)/h**2\n",
    "A[0,1] = k/h**2+a/(2*h)\n",
    "\n",
    "# Pokud chceš brát nějaké řádky/sloupce od konce, použij následující notaci\n",
    "# Záporný index znamená, že to bereš od konce (např. -1, znamená poslední prvek, -2 předposlední ... atd.)\n",
    "A[-1,-1] = -(2*k)/h**2\n",
    "A[-1,-2] = k/h**2-a/(2*h)\n",
    "# mimochodem, nemá být A symetrická? Tedy A[0,1] = A[-1,-2]? Jen se ptám :-)\n",
    "\n",
    "for i in range(1,N-2):\n",
    "        A[i,i-1] = k/h**2-a/(2*h)\n",
    "        A[i,i] = -(2*k)/h**2\n",
    "        A[i,i+1] = a/(2*h)\n",
    "\n",
    "print(A)"
   ]
  },
  {
   "cell_type": "code",
   "execution_count": null,
   "metadata": {},
   "outputs": [],
   "source": [
    "%%time\n",
    "AAA = np.zeros((N-1,N-1))\n",
    "i,j = np.indices(AAA.shape)\n",
    "\n",
    "AAA[i==j] = -(2*k)/h**2\n",
    "AAA[i==j-1] = k/h**2-a/(2*h)\n",
    "AAA[i==j+1] = a/(2*h)\n",
    "print(AAA)"
   ]
  },
  {
   "cell_type": "code",
   "execution_count": null,
   "metadata": {},
   "outputs": [],
   "source": [
    "Z = np.diag(1+np.arange(4),k=-1)\n",
    "print(Z)"
   ]
  },
  {
   "cell_type": "code",
   "execution_count": null,
   "metadata": {},
   "outputs": [],
   "source": []
  }
 ],
 "metadata": {
  "kernelspec": {
   "display_name": "Python 3",
   "language": "python",
   "name": "python3"
  },
  "language_info": {
   "codemirror_mode": {
    "name": "ipython",
    "version": 3
   },
   "file_extension": ".py",
   "mimetype": "text/x-python",
   "name": "python",
   "nbconvert_exporter": "python",
   "pygments_lexer": "ipython3",
   "version": "3.6.4"
  },
  "toc": {
   "base_numbering": 1,
   "nav_menu": {},
   "number_sections": true,
   "sideBar": true,
   "skip_h1_title": false,
   "title_cell": "Table of Contents",
   "title_sidebar": "Contents",
   "toc_cell": false,
   "toc_position": {},
   "toc_section_display": true,
   "toc_window_display": false
  }
 },
 "nbformat": 4,
 "nbformat_minor": 4
}
