{
 "metadata": {
  "name": "HW_3_part_2"
 },
 "nbformat": 3,
 "nbformat_minor": 0,
 "worksheets": [
  {
   "cells": [
    {
     "cell_type": "code",
     "collapsed": false,
     "input": [
      "%pylab inline\n",
      "import numpy as np\n",
      "import matplotlib.pyplot as plt"
     ],
     "language": "python",
     "metadata": {},
     "outputs": [
      {
       "output_type": "stream",
       "stream": "stdout",
       "text": [
        "\n",
        "Welcome to pylab, a matplotlib-based Python environment [backend: module://IPython.zmq.pylab.backend_inline].\n",
        "For more information, type 'help(pylab)'.\n"
       ]
      }
     ],
     "prompt_number": 1
    },
    {
     "cell_type": "markdown",
     "metadata": {},
     "source": [
      "## Exercise 4\n",
      "\n",
      "(a)  Use the explicit Euler method to solve the initial value ODE\n",
      "\n",
      "$$u'(t) = u^2$$\n",
      "\n",
      "with initial condition\n",
      "\n",
      "$$u(0)=1.$$\n",
      "\n",
      "Recall from the text that the exact solution of this problem  \n",
      "$$u(t) = \\frac{1}{1-t}$$  \n",
      "doesn't exist beyond time $t=1$. Check that your program gives an accurate solution for $t<1$.  Then try integrating to a final time $T>1$ and see what happens. You may also wish to try experimenting with the step size $k$. Can you explain the results? \n",
      "\n",
      "(b) Now set up and solve the initial value problem  \n",
      "$$u'(t) = \\sqrt{u(t)} \\ \\ \\ \\ \\ \\ \\ \\ \\ \\ \\ u(0)=0,$$\n",
      "again using the explicit Euler method.\n",
      "Try it with the following initial conditions:    \n",
      "(a) $U^0 = 0$  \n",
      "(b) $U^0 = k$  \n",
      "Since the initial condition (b) converges to the true initial condition as $k\\to 0$, the method should in principle be convergent in either case. Remember that this problem has two solutions (see page 117 of the text). Which (if any) of them does your computed solution appear to converge to?  "
     ]
    },
    {
     "cell_type": "code",
     "collapsed": false,
     "input": [],
     "language": "python",
     "metadata": {},
     "outputs": []
    },
    {
     "cell_type": "markdown",
     "metadata": {},
     "source": [
      "#Exercise 5\n",
      "\n",
      "In this exercise, we'll model a damped harmonic oscillator (e.g., a  pendulum with friction under small amplitude oscillations). The initial  value problem is:  \n",
      "$$u''(t) = -a u(t) - b u'(t)$$  \n",
      "We rewrite this as a first order system:  \n",
      "$$\\pmatrix{u_1 \\\\\\\\ u_2}' = \\pmatrix{0 & 1 \\\\\\\\ -a & -b}  \\pmatrix{u_1 \\\\\\\\ u_2}$$  \n",
      "This is implemented in the function below: "
     ]
    },
    {
     "cell_type": "code",
     "collapsed": false,
     "input": [
      "def f(u):\n",
      "    du=np.zeros(2)\n",
      "    du[0] = u[1]\n",
      "    du[1] = -a*u[0] - b*u[1]\n",
      "    return du"
     ],
     "language": "python",
     "metadata": {},
     "outputs": [],
     "prompt_number": 2
    },
    {
     "cell_type": "markdown",
     "metadata": {},
     "source": [
      "Now we implement 2 numerical methods to test on this problem: forward  Euler and the midpoint rule.  "
     ]
    },
    {
     "cell_type": "code",
     "collapsed": false,
     "input": [
      "def euler(u,k): \n",
      "    return u + k*f(u)\n",
      "def midpoint(u,uold,k):\n",
      "    # uold is the previous step (U^{n-1})\n",
      "    return uold + 2*k*f(u)"
     ],
     "language": "python",
     "metadata": {},
     "outputs": [],
     "prompt_number": 3
    },
    {
     "cell_type": "markdown",
     "metadata": {},
     "source": [
      "(a) Consider the two cases: $$a=100, b=0$$ $$a=100,  b=10$$  \n",
      "Sketch what the true solution of the system will look like  (qualitatively) for each case, in the phase plane (i.e., using $u_1,u_2$  as your axes). Describe the physical behavior of the pendulum in each case.  "
     ]
    },
    {
     "cell_type": "code",
     "collapsed": false,
     "input": [],
     "language": "python",
     "metadata": {},
     "outputs": [],
     "prompt_number": 3
    },
    {
     "cell_type": "markdown",
     "metadata": {},
     "source": [
      "(b) Try each method above on the oscillator problem for the various     values of $a$ and $b$ above.  Use Euler's method to generate the additional starting value for the midpoint method. Take the final time $T=100$, and initial condition     $u(0)=1,u'(0)=0$. \n",
      "\n",
      "Experiment with larger and smaller timesteps. Does the behavior match the true solution, qualitatively?  "
     ]
    },
    {
     "cell_type": "code",
     "collapsed": false,
     "input": [],
     "language": "python",
     "metadata": {},
     "outputs": []
    },
    {
     "cell_type": "markdown",
     "metadata": {},
     "source": [
      "(c)  Explain your results from part (b) in terms of the eigenvalues of the matrix appearing in the system of ODEs and the stability regions of the methods, which are   plotted on page 152 of the text."
     ]
    },
    {
     "cell_type": "code",
     "collapsed": false,
     "input": [],
     "language": "python",
     "metadata": {},
     "outputs": []
    },
    {
     "cell_type": "markdown",
     "metadata": {},
     "source": [
      "## Exercise 6\n",
      "Implement the Adams-Bashforth 3-step method and apply it to the      problem from exercise 5. Use Euler's method and Leapfrog to generate      the starting values you need. Explain your results.  \n",
      "The Adams-Bashforth 3-step method is:  \n",
      "<p style=\"text-align: center;\">$U^{n+3}=U^{n+2}+\\frac{k}{12}(5f(U^n)-16f(U^{n+1})+23f(U^{n+2}))$\n",
      "    \n",
      "Its stability region is plotted in the text."
     ]
    },
    {
     "cell_type": "code",
     "collapsed": false,
     "input": [],
     "language": "python",
     "metadata": {},
     "outputs": []
    }
   ],
   "metadata": {}
  }
 ]
}