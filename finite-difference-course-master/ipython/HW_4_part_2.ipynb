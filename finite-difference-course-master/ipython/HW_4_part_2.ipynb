{
 "metadata": {
  "name": "HW_4_part_2"
 },
 "nbformat": 3,
 "nbformat_minor": 0,
 "worksheets": [
  {
   "cells": [
    {
     "cell_type": "code",
     "collapsed": false,
     "input": [
      "%pylab inline\n",
      "import numpy as np\n",
      "import matplotlib.pyplot as plt"
     ],
     "language": "python",
     "metadata": {},
     "outputs": []
    },
    {
     "cell_type": "markdown",
     "metadata": {},
     "source": [
      "#Exercise 3: Spectral collocation\n",
      "\n",
      "(a) Write a program that uses the function fdcoeffV() (from the first lecture worksheet) to compute the differentiation matrix $D$, using the approach described on page 56 of the text. Check that the output of this function matches the matrix constructed by the function cheb() in the Spectral Methods notebook.  \n",
      "(b) Solve the boundary value problem $u''(x) = f(x)$ using the function (4.82) given on p.103 of the textbook using spectral collocation. You may use the code from the spectral methods notebook."
     ]
    },
    {
     "cell_type": "code",
     "collapsed": false,
     "input": [],
     "language": "python",
     "metadata": {},
     "outputs": []
    }
   ],
   "metadata": {}
  }
 ]
}