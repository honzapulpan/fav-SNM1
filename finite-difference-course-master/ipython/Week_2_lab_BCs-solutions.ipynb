{
 "metadata": {
  "name": "Week_2_lab_BCs-solutions"
 },
 "nbformat": 3,
 "nbformat_minor": 0,
 "worksheets": [
  {
   "cells": [
    {
     "cell_type": "code",
     "collapsed": false,
     "input": [
      "%pylab inline\n",
      "import numpy as np\n",
      "import matplotlib.pyplot as plt"
     ],
     "language": "python",
     "metadata": {},
     "outputs": [
      {
       "output_type": "stream",
       "stream": "stdout",
       "text": [
        "\n",
        "Welcome to pylab, a matplotlib-based Python environment [backend: module://IPython.zmq.pylab.backend_inline].\n",
        "For more information, type 'help(pylab)'.\n"
       ]
      }
     ],
     "prompt_number": 1
    },
    {
     "cell_type": "markdown",
     "metadata": {},
     "source": [
      "# Boundary conditions and boundary layers\n",
      "In this lab, we'll look at how to implement different boundary conditions and their effect on the accuracy of the solution.  If time permits, we'll also look at the formation of a boundary layer.  This accompanies Sections 2.12 and 2.17 of the text."
     ]
    },
    {
     "cell_type": "markdown",
     "metadata": {},
     "source": [
      "First, we'll consider the second-order boundary value problem with Dirichlet boundary conditions.  Dirichlet conditions simply mean that the solution values are given at the boundaries:\n",
      "\n",
      "$$u''(x)=f(x), \\ \\ \\ 0\\le x \\le 1, \\ \\ \\ u(0)=\\alpha, \\ \\ u(1)=\\beta$$ \n",
      "\n",
      "Remember that we derived this differential equation by considering the steady state of the heat conduction problem in a rod:\n",
      "\n",
      "$$u_t(x,t) = \\kappa u_{xx}(x,t) + \\psi(x).$$\n",
      "\n",
      "The values $\\alpha,\\beta$ correspond to the fixed temperatures at the end of the rod and $f(x)=-\\psi(x)/\\kappa$.\n",
      "\n",
      "We'll take\n",
      "\n",
      "$$f(x)=-1$$  \n",
      "\n",
      "corresponding to a uniform heat source distributed throughout the rod."
     ]
    },
    {
     "cell_type": "markdown",
     "metadata": {},
     "source": [
      "We'll use the usual approximation\n",
      "\n",
      "$$u''(x) \\approx \\frac{U_{i-1}-2U_i + U_{i+1}}{h^2} = AU.$$\n",
      "\n",
      "Today we'll use an extended vector $U$, that includes $U_0$ and $U_{m+1}$:\n",
      "\n",
      "$$U = \\begin{pmatrix} U_0 \\\\\\\\ U_1 \\\\\\\\ \\vdots \\\\\\\\ U_m \\\\\\\\ U_{m+1} \\end{pmatrix}$$\n",
      "\n",
      "Here $A$ is an $(m+2) \\times (m+2)$ matrix.  It is nearly the same tridiagonal matrix that you coded up in the pre-class notebook, but it needs an additional first and last row and column.  What should those rows and columns be?  Write a function that generates the matrix $A$."
     ]
    },
    {
     "cell_type": "code",
     "collapsed": false,
     "input": [
      "def D2(m):\n",
      "    \"Centered 3-point approximation of the 2nd derivative on a grid with m points, with Dirichlet boundary conditions.\"\n",
      "    h = 1./(m+1)\n",
      "    e_mp2 = np.ones(m+2)\n",
      "    e_mp1 = np.ones(m+1)\n",
      "    A = 1./h**2 * (np.diag(e_mp1,-1) - 2*np.diag(e_mp2,0) + np.diag(e_mp1,1))\n",
      "    A[0,0]=0.\n",
      "    A[0,1]=0.\n",
      "    A[-1,-1]=0.\n",
      "    A[-1,-2]=0.\n",
      "    return A\n",
      "\n",
      "def Dirichlet_BC(m):\n",
      "    \"Boundary conditions matrix.\"\n",
      "    A = np.zeros((m+2,m+2))\n",
      "    A[0,0] = 1.\n",
      "    A[-1,-1] = 1.\n",
      "    return A"
     ],
     "language": "python",
     "metadata": {},
     "outputs": [],
     "prompt_number": 125
    },
    {
     "cell_type": "markdown",
     "metadata": {},
     "source": [
      "We also need the right hand side vector $F$, which should have $m+2$ entries.  Write a function that returns the appropriate $F$."
     ]
    },
    {
     "cell_type": "code",
     "collapsed": false,
     "input": [
      "def f(x):\n",
      "    #return np.zeros(x.shape)\n",
      "    #return np.sin(np.exp(5*x))\n",
      "    return -np.ones(x.shape)\n",
      "\n",
      "def rhs(x,f,alpha,beta):\n",
      "    F = f(x)\n",
      "    F[0]  = alpha\n",
      "    F[-1] = beta\n",
      "    return F"
     ],
     "language": "python",
     "metadata": {},
     "outputs": [],
     "prompt_number": 178
    },
    {
     "cell_type": "markdown",
     "metadata": {},
     "source": [
      "Write some code that specifies a value of $m$ and sets up the grid, the matrix $A$, and the vector $F$.  You can take $\\alpha=\\beta=0$."
     ]
    },
    {
     "cell_type": "code",
     "collapsed": false,
     "input": [
      "m = 1000\n",
      "alpha = 1.\n",
      "beta = 0.\n",
      "x = np.linspace(0,1,m+2)\n",
      "A = D2(m) + Dirichlet_BC(m)\n",
      "F = rhs(x,f,alpha,beta)"
     ],
     "language": "python",
     "metadata": {},
     "outputs": [],
     "prompt_number": 127
    },
    {
     "cell_type": "markdown",
     "metadata": {},
     "source": [
      "Finally, let's solve the problem.  You can do this using the function np.linalg.solve, which is similar to MATLAB's backslash.  Also plot your solution as a function of $x$ using plt.plot."
     ]
    },
    {
     "cell_type": "code",
     "collapsed": false,
     "input": [
      "U = np.linalg.solve(A,F)\n",
      "plt.plot(x,U)"
     ],
     "language": "python",
     "metadata": {},
     "outputs": [],
     "prompt_number": 128
    },
    {
     "cell_type": "markdown",
     "metadata": {},
     "source": [
      "Now look at your solution.  Does it make sense to you?  Think about the physical meaning of the problem.\n",
      "\n",
      "Try some other values of $\\alpha$ and $\\beta$.  Try a different function $f$.  Do the results make sense to you?"
     ]
    },
    {
     "cell_type": "markdown",
     "metadata": {},
     "source": [
      "#Neumann boundary conditions\n",
      "A Neumann boundary condition refers to the specification of the derivative of the solution, rather than its value.  For instance, consider the following modification of the problem above:\n",
      "\n",
      "$$u''(x)=-1, \\ \\ \\ 0\\le x \\le 1, \\ \\ \\ u'(0)=0, \\ \\ u(1)=\\beta$$\n",
      "\n",
      "Here the first derivative of the solution at the left end of the rod is required to vanish.  This corresponds to the physical situation in which the left end of the rod is insulated, so no heat can pass in or out.  Recall that the first derivative of the solution is the heat flux."
     ]
    },
    {
     "cell_type": "markdown",
     "metadata": {},
     "source": [
      "How can we impose the boundary condition $u'(0)=0$?  The simplest way is to use a finite difference formula.  Since we don't have any grid points to the left of $x_0=0$, we can only use $U_0$ and points to the right in approximating $u'(0)$.  Here are two formulas; the first is 1st-order accurate and the second is 2nd-order accurate:\n",
      "\n",
      "$$u'(0) \\approx \\frac{U_1-U_0}{h}$$\n",
      "\n",
      "$$u'(0) \\approx -\\frac{1}{h}\\left(\\frac{3}{2}U_0 - 2U_1 + \\frac{1}{2}U_2\\right)$$\n",
      "\n",
      "Pick one of these formulas and implement it in your finite difference scheme by modifying the first row of $A$ and the first entry of $F$.  Then solve the problem above."
     ]
    },
    {
     "cell_type": "code",
     "collapsed": false,
     "input": [
      "def Neumann_BC_left(m):\n",
      "    \"Boundary conditions matrix.\"\n",
      "    h = 1./(m+1)\n",
      "    A = np.zeros((m+2,m+2))\n",
      "    A[0,0] = -1./h\n",
      "    A[0,1] =  1./h\n",
      "    return A\n",
      "\n",
      "def Dirichlet_BC_right(m):\n",
      "    A = np.zeros((m+2,m+2))\n",
      "    A[-1,-1] = 1\n",
      "    return A\n",
      "    \n",
      "def rhs(x,f,alpha,beta):\n",
      "    F = f(x)\n",
      "    F[0]  = alpha\n",
      "    F[-1] = beta\n",
      "    return F"
     ],
     "language": "python",
     "metadata": {},
     "outputs": [],
     "prompt_number": 179
    },
    {
     "cell_type": "code",
     "collapsed": false,
     "input": [
      "m = 1000\n",
      "alpha = 0.\n",
      "beta = 0.\n",
      "x = np.linspace(0,1,m+2)\n",
      "A = D2(m) + Dirichlet_BC_right(m) + Neumann_BC_left(m)\n",
      "F = rhs(x,f,alpha,beta)\n",
      "\n",
      "U = np.linalg.solve(A,F)\n",
      "plt.plot(x,U)"
     ],
     "language": "python",
     "metadata": {},
     "outputs": [
      {
       "output_type": "pyout",
       "prompt_number": 180,
       "text": [
        "[<matplotlib.lines.Line2D at 0x10edf9210>]"
       ]
      },
      {
       "output_type": "display_data",
       "png": "[encoded data removed]"
      }
     ],
     "prompt_number": 180
    },
    {
     "cell_type": "markdown",
     "metadata": {},
     "source": [
      "Does the solution you've found make sense to you?\n",
      "\n",
      "What happens if you impose Neumann boundary conditions at both ends?  Can you explain it?  Think about the physical meaning of the problem."
     ]
    },
    {
     "cell_type": "markdown",
     "metadata": {},
     "source": [
      "# Boundary layers\n",
      "If you've finished all the above and still have time, let's explore the convection-diffusion problem\n",
      "\n",
      "$$u_t + au_x = \\kappa u_{xx} + \\psi(x).$$\n",
      "\n",
      "This is similar to the heat conduction problem except that we also have a convective term $au_x$.  You can think of $u(x,t)$ as describing the distribution of dye in a stream flowing at velocity $a$ where $\\kappa$ describes how quickly the dye diffuses and $\\psi(x)$ represents dye being added to the stream.\n",
      "\n",
      "Considering the steady state solution of the problem above gives the ODE\n",
      "\n",
      "$$\\epsilon u''(x) - u'(x) = f(x).$$\n",
      "\n",
      "Here epsilon represents the relative strength of the advective and diffusive effects.  Let's solve this equation with\n",
      "\n",
      "$$0 \\le x \\le 1 \\ \\ \\ u(0)=1 \\ \\ \\ u(1)=3.$$"
     ]
    },
    {
     "cell_type": "markdown",
     "metadata": {},
     "source": [
      "For the $u''(x)$ term, you can use the code you developed above.  You only need to modify it to take the factor $\\epsilon$ into account.  For the $u'(x)$ term, you can use a centered difference, which is already coded up below:"
     ]
    },
    {
     "cell_type": "code",
     "collapsed": false,
     "input": [
      "def D(m):\n",
      "    \"Centered 3-point approximation of the 1st derivative on a grid with m points, with homogeneous Dirichlet boundary conditions.\"\n",
      "    h = 1./(m+1)\n",
      "    e_mp2 = np.ones(m+2)\n",
      "    e_mp1 = np.ones(m+1)\n",
      "    A = 1./h * (-np.diag(e_mp1,-1) + np.diag(e_mp1,1))\n",
      "    A[0,0]=0.\n",
      "    A[0,1]=0.\n",
      "    A[-1,-1]=0.\n",
      "    A[-1,-2]=0.\n",
      "    return A"
     ],
     "language": "python",
     "metadata": {},
     "outputs": [],
     "prompt_number": 131
    },
    {
     "cell_type": "markdown",
     "metadata": {},
     "source": [
      "Go ahead and use these matrices to solve the given problem.  Try different values of $m$ (say 10-100) and different values of $\\epsilon$ (say 0.5, 0.1, 0.01)."
     ]
    },
    {
     "cell_type": "code",
     "collapsed": false,
     "input": [
      "m = 50\n",
      "alpha = 1.\n",
      "beta = 3.\n",
      "epsilon=0.1\n",
      "x = np.linspace(0,1,m+2)\n",
      "A = D2(m)\n",
      "B = D(m)\n",
      "F = rhs(x,f,alpha,beta)\n",
      "lhs = epsilon*A - B + BC(m)\n",
      "U = np.linalg.solve(lhs,F)\n",
      "plt.plot(x,U)"
     ],
     "language": "python",
     "metadata": {},
     "outputs": []
    },
    {
     "cell_type": "markdown",
     "metadata": {},
     "source": [
      "Does the solution seem physically reasonable?  Does your code have trouble with any particular values of $m$ and $\\epsilon$?  This is discussed in Section 2.17 of the text."
     ]
    }
   ],
   "metadata": {}
  }
 ]
}