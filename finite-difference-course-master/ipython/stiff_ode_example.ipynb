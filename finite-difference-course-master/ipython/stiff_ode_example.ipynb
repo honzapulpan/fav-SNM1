{
 "metadata": {
  "name": "Stiff ODE Example"
 },
 "nbformat": 3,
 "nbformat_minor": 0,
 "worksheets": [
  {
   "cells": [
    {
     "cell_type": "code",
     "collapsed": false,
     "input": [
      "%pylab inline\n",
      "import numpy as np\n",
      "import matplotlib.pyplot as plt"
     ],
     "language": "python",
     "metadata": {},
     "outputs": []
    },
    {
     "cell_type": "code",
     "collapsed": false,
     "input": [
      "def exact_solution(lamda,eta,t0=0,T=10):\n",
      "    t=np.linspace(t0,T,1000)\n",
      "    u=np.exp(lamda*(t-t0))*(eta-np.cos(t0))+np.cos(t)\n",
      "    return t,u"
     ],
     "language": "python",
     "metadata": {},
     "outputs": []
    },
    {
     "cell_type": "code",
     "collapsed": false,
     "input": [
      "t0=0\n",
      "lamda=-1\n",
      "eta=1\n",
      "t,u=exact_solution(lamda,eta,t0)\n",
      "plt.plot(t,u,'k')"
     ],
     "language": "python",
     "metadata": {},
     "outputs": []
    },
    {
     "cell_type": "code",
     "collapsed": false,
     "input": [
      "lamda=-1\n",
      "plt.clf()\n",
      "for t0,eta in [(0,2),(0,-1),(2,1),(5,-0.5)]:\n",
      "    t,u=exact_solution(lamda,eta,t0)\n",
      "    plt.plot(t,u)\n",
      "    plt.hold(True)\n",
      "t,u=exact_solution(lamda,1,0)\n",
      "plt.plot(t,u,'k')\n",
      "plt.hold(False)\n"
     ],
     "language": "python",
     "metadata": {},
     "outputs": []
    },
    {
     "cell_type": "code",
     "collapsed": false,
     "input": [
      "def Euler(u,t,k,f):\n",
      "    return u + k*f(u,t)"
     ],
     "language": "python",
     "metadata": {},
     "outputs": []
    },
    {
     "cell_type": "code",
     "collapsed": false,
     "input": [
      "def f(u,t):\n",
      "    lamda=-10\n",
      "    return lamda*(u-np.cos(t))-np.sin(t)"
     ],
     "language": "python",
     "metadata": {},
     "outputs": []
    },
    {
     "cell_type": "code",
     "collapsed": false,
     "input": [
      "lamda=-10\n",
      "k=0.2\n",
      "eta=1.\n",
      "T=10.\n",
      "n=np.int(np.floor(T/k))\n",
      "plt.clf()\n",
      "t,u=exact_solution(lamda,1,0,T=T)\n",
      "plt.plot(t,u,'k')\n",
      "plt.hold(True)\n",
      "for i in range(n):\n",
      "    etanew=Euler(eta,i*k,k,f)\n",
      "    plt.plot([i*k,(i+1)*k],[eta,etanew],'ro-')\n",
      "    eta=etanew\n",
      "    t,u=exact_solution(lamda,eta,(i+1)*k,T=T)\n",
      "    #plt.plot(t,u,'b')\n",
      "plt.hold(False)"
     ],
     "language": "python",
     "metadata": {},
     "outputs": []
    },
    {
     "cell_type": "code",
     "collapsed": false,
     "input": [],
     "language": "python",
     "metadata": {},
     "outputs": []
    }
   ],
   "metadata": {}
  }
 ]
}