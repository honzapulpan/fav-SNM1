{
 "metadata": {
  "name": "HW_5_part_1"
 },
 "nbformat": 3,
 "nbformat_minor": 0,
 "worksheets": [
  {
   "cells": [
    {
     "cell_type": "code",
     "collapsed": false,
     "input": [
      "%pylab inline\n",
      "import numpy as np\n",
      "import matplotlib.pyplot as plt"
     ],
     "language": "python",
     "metadata": {},
     "outputs": []
    },
    {
     "cell_type": "markdown",
     "metadata": {},
     "source": [
      "<strong>Aliasing</strong>  \n",
      "The code below plots sine waves of a given frequency, along with their representation on a grid with $m$ points.  Try changing $p$ and notice how for $m<2p$ the function looks identical to that for $2(m+1)-p$ due to aliasing.  "
     ]
    },
    {
     "cell_type": "code",
     "collapsed": false,
     "input": [
      "m=30\n",
      "h=1./(m+1)              # Mesh width\n",
      "x=np.linspace(0,1,m+2); # grid\n",
      "xf=np.linspace(0,1,1000) # fine grid\n",
      "p=2\n",
      "plt.clf()\n",
      "plt.plot(xf,np.sin(p*np.pi*xf),'-r',x,np.sin(p*np.pi*x),'o-')"
     ],
     "language": "python",
     "metadata": {},
     "outputs": []
    },
    {
     "cell_type": "markdown",
     "metadata": {},
     "source": [
      "<strong>Jacobi's Method</strong>  \n",
      "Let's use Jacobi's method to solve the problem given by Eq. (4.82) in  the text. In the box below, we set up the grid, the right hand side,  the boundary values, and the true solution $u$.  "
     ]
    },
    {
     "cell_type": "code",
     "collapsed": false,
     "input": [
      "m=2**8-1                              # Number of grid points\n",
      "h=1./(m+1)                         # Mesh width\n",
      "x=np.linspace(0,1,m+2); x=x[1:-1]  # grid\n",
      "phi = lambda x: 20.* np.pi * x**3\n",
      "f = lambda x: -20 + 0.5*120*np.pi*x * cos(phi(x)) - 0.5*(60*np.pi*x**2)**2 * sin(phi(x))\n",
      "alpha=1.; beta=3."
     ],
     "language": "python",
     "metadata": {},
     "outputs": []
    },
    {
     "cell_type": "markdown",
     "metadata": {},
     "source": [
      "Now we'll take 30 iterations with Jacobi's method and plot the result. Notice how we modify $F$ to incorporate the boundary conditions.  "
     ]
    },
    {
     "cell_type": "code",
     "collapsed": false,
     "input": [
      "omega=1.\n",
      "U=np.linspace(alpha,beta,m)  # Just use a straight line as initial guess\n",
      "F=0.5*h**2*f(x)\n",
      "F[0]-=alpha/2.; F[-1]-=beta/2.    # Construct the RHS, including boundary conditions\n",
      "e=np.ones(m-1)\n",
      "G=0.5*(np.diag(e,-1)+np.diag(e,1))\n",
      "for i in range(30):\n",
      "    U=(1.-omega)*U+omega*(np.dot(G,U)-F)\n",
      "\n",
      "xf = np.linspace(0,1,1000); \n",
      "uf = 1.+12.*xf-10.*xf**2 + 0.5*np.sin(phi(xf))  # Exact solution on fine grid\n",
      "u = 1.+12.*x-10.*x**2 + 0.5*np.sin(phi(x))  # Exact solution on computational grid\n",
      "plt.clf()\n",
      "plt.plot(xf,uf,x,U,'-',x,U-u,'-o')\n",
      "plt.legend(['Exact','Jacobi','Error'],loc='best')"
     ],
     "language": "python",
     "metadata": {},
     "outputs": []
    },
    {
     "cell_type": "markdown",
     "metadata": {},
     "source": [
      "<strong>Under-relaxation</strong>  \n",
      "Try playing around with the number of Jacobi iterations and see how the error changes. Remember that the $p$th Fourier mode  \n",
      "$$u^p = \\sin(p\\pi x)$$  \n",
      "is reduced by a factor of $|\\hat{\\gamma}_p|= |1-\\omega + \\omega\\cos(p\\pi h)| = 1 + \\omega(\\cos(p \\pi h) - 1)|$.  \n",
      "The code below plots this range of values. Try changing $\\omega$ to $\\frac{2}{3}$ and notice how the second half of the eigenvalues (for $p\\ge m/2$) are all shifted to have smaller absolute value.  "
     ]
    },
    {
     "cell_type": "code",
     "collapsed": false,
     "input": [
      "M=30; H=1./(M+1)\n",
      "omega=1.\n",
      "p=np.arange(1,M+1)\n",
      "gamma = abs(1.+omega*(np.cos(p*np.pi*H)-1))\n",
      "plt.clf()\n",
      "plt.plot(p,gamma,'o')"
     ],
     "language": "python",
     "metadata": {},
     "outputs": []
    },
    {
     "cell_type": "markdown",
     "metadata": {},
     "source": [
      "<strong>Restriction and Prolongation<br /></strong>  \n",
      "In order to implement multigrid, we need a way to take a function with values on a fine grid and restrict it to its values on a coarser grid (restriction). We also need a way to take a function with values on a coarse grid and interpolate onto a fine grid (prolongation). The functions below do just this, using linear interpolation in the case of the prolongation operator. Make sure you understand what they are doing. You may find it helpful to look up slicing notation in the NumPy help online.  "
     ]
    },
    {
     "cell_type": "code",
     "collapsed": false,
     "input": [
      "def coarsen(f):\n",
      "    return f[1::2]  # This slicing just takes the odd-numbered points\n",
      "\n",
      "def interpolate(f,alpha,beta):\n",
      "    m_coarse=len(f)\n",
      "    m_fine  =2*m_coarse+1\n",
      "    f_interp = np.zeros(m_fine)\n",
      "    f_interp[1::2]=f                          #Set the values of the odd numbered points\n",
      "    f_interp[2:-1:2]=0.5*(f[:-1]+f[1:])       #Set the values of the (interior) even numbered points\n",
      "    f_interp[0]=0.5*(f_interp[1]+alpha)     #Set the values of the endpoints\n",
      "    f_interp[-1]=0.5*(f_interp[-2]+beta)\n",
      "    return f_interp"
     ],
     "language": "python",
     "metadata": {},
     "outputs": []
    },
    {
     "cell_type": "markdown",
     "metadata": {},
     "source": [
      "**Correction using a second grid**\n",
      "\n",
      "Now we compute the residual $$r = f-AU$$ on the fine grid, coarsen it, and solve $$Ae=-r$$ for the approximate error on the coarse grid. Then interpolate and subtract the interpolated error from the fine grid solution.  "
     ]
    },
    {
     "cell_type": "code",
     "collapsed": false,
     "input": [
      "#compute the residual\n",
      "A=2./h**2*(G-np.eye(m))\n",
      "F=f(x); F[0]-=alpha/h**2; F[-1]-=beta/h**2\n",
      "r=F-np.dot(A,U)\n",
      "print max(abs(r))\n",
      "omega=2./3.\n",
      "m2=(m-1)/2.               # Number of points in coarse grid\n",
      "h2=1./(m2+1)              # coarse mesh width\n",
      "x2=coarsen(x)             # coarse grid points\n",
      "r2=coarsen(r)             # residual restricted to coarse grid\n",
      "err2=np.zeros(m2)         # initial guess for the error\n",
      "e2=np.ones(m2-1); G2=0.5*(np.diag(e2,-1)+np.diag(e2,1))\n",
      "for i in range(3):                        #Solve Ae=-r by Jacobi iteration\n",
      "    err2=(1.-omega)*err2+omega*(np.dot(G2,err2)+0.5*h2**2*r2)\n",
      "err=interpolate(err2,0,0)     # interpolate the error\n",
      "print err[0]\n",
      "U=U-err                   # and use it to correct our solution\n",
      "plt.clf()\n",
      "plt.plot(x,u,x,U,x,U-u)\n",
      "plt.legend(['Exact','Jacobi','Error'],loc='best')"
     ],
     "language": "python",
     "metadata": {},
     "outputs": []
    },
    {
     "cell_type": "markdown",
     "metadata": {},
     "source": [
      "Finally, in order to keep our multigrid code clean, we'll write a function to set up and take a fixed number of Jacobi iterations. The function returns the approximate solution and the residual.  "
     ]
    },
    {
     "cell_type": "code",
     "collapsed": false,
     "input": [
      "def Jacobi(U,f,alpha,beta,m,nu):\n",
      "    \"\"\"Perform nu Jacobi iterations on a grid with m points, with initial guess U, right hand side function f and \n",
      "       Dirichlet boundary conditions with values alpha and beta.  The function returns both the approximate\n",
      "       solution and the residual.\"\"\"\n",
      "    omega=1#.2./3.\n",
      "    h=1./(m+1)\n",
      "    F=0.5*h**2*f.copy()\n",
      "    F[0]-=alpha/2.; F[-1]-=beta/2.\n",
      "    e=np.ones(m-1)\n",
      "    G=0.5*(np.diag(e,-1)+np.diag(e,1))\n",
      "    for i in range(nu):\n",
      "        U=(1.-omega)*U + omega*(np.dot(G,U)-F)\n",
      "    A=2./h**2*(G-np.eye(m))\n",
      "    FF=f.copy(); FF[0]-=alpha/h**2; FF[-1]-=beta/h**2\n",
      "    rr=FF-np.dot(A,U)\n",
      "    return U,rr"
     ],
     "language": "python",
     "metadata": {},
     "outputs": []
    },
    {
     "cell_type": "markdown",
     "metadata": {},
     "source": [
      "<strong>Multigrid V-cycle</strong>  \n",
      "Now let's do a full V-cycle. Look carefully through the code below until you understand what it does.  "
     ]
    },
    {
     "cell_type": "code",
     "collapsed": false,
     "input": [
      "k=8;\n",
      "m=2**k-1\n",
      "rdep=k-1  # Recursion depth; this is how many grids down we want to go\n",
      "          # rdep=k-1 gives a full V-cycle\n",
      "nu=3      # Number of Jacobi iterations to take at each step\n",
      "U=np.linspace(alpha,beta,m)  # Initial guess\n",
      "x=np.linspace(0,1,m+2); x=x[1:-1]  # grid\n",
      "phi = lambda x: 20.* np.pi * x**3\n",
      "u = 1.+12.*x-10.*x**2 + 0.5*np.sin(phi(x))\n",
      "f = lambda x: -20 + 0.5*120*np.pi*x * cos(phi(x)) - 0.5*(60*np.pi*x**2)**2 * sin(phi(x))\n",
      "alpha=1.; beta=3.\n",
      "F=f(x)\n",
      "r=range(rdep+1); error=range(rdep+1)        # This just initializes these lists to have the right length\n",
      "U,rr=Jacobi(U,F,alpha,beta,m,nu)  # Initial iteration on fine grid\n",
      "for i in range(1,rdep+1): # Going down\n",
      "    m=(m-1)/2 #  = 2**(k-i) - 1\n",
      "    r[i]=coarsen(rr)             # residual restricted to next coarser grid\n",
      "    error[i],rr=Jacobi(np.zeros(m),-r[i],0.,0.,m,nu)\n",
      "for i in range(1,rdep): # Coming up\n",
      "    m=2*m+1\n",
      "    err=error[rdep-i]-interpolate(error[rdep+1-i],0,0)     # Interpolate and subtract the correction\n",
      "    error[-i-1],rr=Jacobi(err,-r[rdep-i],0.,0.,m,nu)\n",
      "m=2*m+1\n",
      "U=U-interpolate(error[1],0,0)                   # final solution correction\n",
      "U,rr=Jacobi(U,F,alpha,beta,m,nu)                #Final iterations on original grid\n",
      "plt.clf()\n",
      "plt.plot(x,u,x,U,'o-',x,U-u)\n",
      "plt.legend(['Exact','Jacobi','Error'],loc='best')"
     ],
     "language": "python",
     "metadata": {},
     "outputs": []
    },
    {
     "cell_type": "markdown",
     "metadata": {},
     "source": [
      "# Exercise #1:\n",
      "Modify the V-cycle code above to answer the following questions. Try to explain your results.  \n",
      "(a) How does the accuracy change as we change the number of Jacobi iterations performed at each step?  \n",
      "\n",
      "(b) Is it better to use a finer grid, or more Jacobi iterations if we want to improve the solution accuracy?  \n",
      "\n",
      "(c) What happens if we don't perform any Jacobi iterations in the \"up\" part of the V-cycle?  \n",
      "\n",
      "(d) What happens if we don't recurse all the way down to the 1-point grid?  \n",
      "\n",
      "(e) What happens if we use the original Jacobi method, or some other value of $\\omega$?  \n",
      "\n",
      "For the ambitious (this part is not required): Use the V-cycle code above to implement the full multigrid algorithm discussed in the text. You will probably find it helpful to write a Vcycle() function first.    "
     ]
    },
    {
     "cell_type": "code",
     "collapsed": false,
     "input": [],
     "language": "python",
     "metadata": {},
     "outputs": []
    }
   ],
   "metadata": {}
  }
 ]
}