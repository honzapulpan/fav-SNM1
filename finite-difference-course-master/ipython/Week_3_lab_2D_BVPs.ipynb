{
 "metadata": {
  "name": "Week_3_lab_2D_BVPs"
 },
 "nbformat": 3,
 "nbformat_minor": 0,
 "worksheets": [
  {
   "cells": [
    {
     "cell_type": "code",
     "collapsed": false,
     "input": [
      "%pylab inline\n",
      "import numpy as np\n",
      "import matplotlib.pyplot as pl\n",
      "from scipy.sparse import spdiags,linalg"
     ],
     "language": "python",
     "metadata": {},
     "outputs": []
    },
    {
     "cell_type": "markdown",
     "metadata": {},
     "source": [
      "Here's a function to construct the 5-point Laplacian finite difference formula  \n",
      "$$\\frac{1}{h^2}\\left(U_{i-1,j}+U_{i+1,j}+U_{i,j-1}+U_{i,j+1}-4U_{ij}\\right)$$  \n",
      "as a matrix $A$, so that the product $AU$ gives the formula above when $U$ is constructed using  \n",
      "the natural row-wise ordering:  "
     ]
    },
    {
     "cell_type": "code",
     "collapsed": false,
     "input": [
      "def five_pt_laplacian(m):\n",
      "    e=np.ones(m**2)\n",
      "    e2=([0]+[1]*(m-1))*m\n",
      "    h=1./(m+1)\n",
      "    A=np.diag(-4*e,0)+np.diag(e2[1:],-1)+np.diag(e2[1:],1)+np.diag(e[m:],m)+np.diag(e[m:],-m)\n",
      "    A/=h**2\n",
      "    return A"
     ],
     "language": "python",
     "metadata": {},
     "outputs": []
    },
    {
     "cell_type": "markdown",
     "metadata": {},
     "source": [
      "Matplotlib has a nice spy() command, just like MATLAB's, which shows us  the structure of $A$ (note here the structure of the +1 and -1  diagonals):  "
     ]
    },
    {
     "cell_type": "code",
     "collapsed": false,
     "input": [
      "A=five_pt_laplacian(4)\n",
      "plt.spy(A)"
     ],
     "language": "python",
     "metadata": {},
     "outputs": []
    },
    {
     "cell_type": "markdown",
     "metadata": {},
     "source": [
      "Notice that each row has at most 5 non-zero entries, and at least $m^2-5$ entries equal to zero. The function above constructs a full matrix, meaning all those zeros are stored in memory. This will take up a lot of memory! We might as well just store the non-zero entries. This is done with the following code (take a look at the help for spdiags):  "
     ]
    },
    {
     "cell_type": "code",
     "collapsed": false,
     "input": [
      "def five_pt_laplacian_sparse(m):\n",
      "    e=np.ones(m**2)\n",
      "    e2=([1]*(m-1)+[0])*m\n",
      "    e3=([0]+[1]*(m-1))*m\n",
      "    h=1./(m+1)\n",
      "    A=spdiags([-4*e,e2,e3,e,e],[0,-1,1,-m,m],m**2,m**2)\n",
      "    A/=h**2\n",
      "    return A.tocsr()"
     ],
     "language": "python",
     "metadata": {},
     "outputs": []
    },
    {
     "cell_type": "markdown",
     "metadata": {},
     "source": [
      "Another tool we need is a way to transform a matrix whose $i,j$ entry corresponds to the point $x_i,y_j$ on the grid into a vector using the natural row-wise ordering. Like MATLAB, numpy has a reshape() command that does just this:  "
     ]
    },
    {
     "cell_type": "code",
     "collapsed": false,
     "input": [
      "U=np.array([[1,2,3],[4,5,6],[7,8,9]])\n",
      "U.reshape([9])"
     ],
     "language": "python",
     "metadata": {},
     "outputs": []
    },
    {
     "cell_type": "markdown",
     "metadata": {},
     "source": [
      "Now let's solve the 2D BVP  \n",
      "\n",
      "$$\\nabla^2 u = -(20y^3+9\\pi^2(y-y^5))\\sin(3\\pi x)$$  \n",
      "\n",
      "on the unit square $[0,1]\\times[0,1]$ with homogeneous Dirichlet boundary conditions (i.e., $u(x,y)=0$ everywhere on the boundary).  You can do this as follows:\n",
      "\n",
      "1. Choose a number of grid points $m$.\n",
      "2. Set up one-dimensional coordinate arrays $x$ and $y$ using np.linspace().\n",
      "3. Set up 2D coordinate arrays using np.meshgrid() (it works just like MATLAB's meshgrid).\n",
      "4. Use five_pt_laplacian_sparse() to set up the left-hand-side matrix.\n",
      "5. Compute the right hand side vector $F$.  For this, you can compute $F$ as a 2D array using the $X,Y$ arrays and then reshape $F$ to be a one-dimensional vector.\n",
      "6. Solve the linear system $AU=F$ using linalg.spsolve()."
     ]
    },
    {
     "cell_type": "code",
     "collapsed": false,
     "input": [],
     "language": "python",
     "metadata": {},
     "outputs": []
    },
    {
     "cell_type": "markdown",
     "metadata": {},
     "source": [
      "Now to plot your solution, you'll need to reshape $U$ to be the shape of the grid; i.e, $m\\times m$.  Then you can plot it using the function plt.pcolor().  "
     ]
    },
    {
     "cell_type": "code",
     "collapsed": false,
     "input": [
      "U=U.reshape([m,m])\n",
      "plt.clf()\n",
      "plt.pcolor(X,Y,U)\n",
      "plt.colorbar()"
     ],
     "language": "python",
     "metadata": {},
     "outputs": []
    },
    {
     "cell_type": "markdown",
     "metadata": {},
     "source": [
      "How accurate is this solution?  In fact, the problem above was obtained by taking  \n",
      "$$u(x,y) = (y-y^5)\\sin(3\\pi x)$$  \n",
      "and computing the Laplacian of $u$. Notice that $u=0$ on the boundaries.  \n",
      "\n",
      "Use this to compute the error in your solution.  Try changing $m$.  What is the rate of convergence?"
     ]
    },
    {
     "cell_type": "code",
     "collapsed": false,
     "input": [],
     "language": "python",
     "metadata": {},
     "outputs": []
    }
   ],
   "metadata": {}
  }
 ]
}