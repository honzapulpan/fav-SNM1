{
 "metadata": {
  "name": "HW_2_part_1"
 },
 "nbformat": 3,
 "nbformat_minor": 0,
 "worksheets": [
  {
   "cells": [
    {
     "cell_type": "code",
     "collapsed": false,
     "input": [
      "import numpy as np"
     ],
     "language": "python",
     "metadata": {},
     "outputs": []
    },
    {
     "cell_type": "markdown",
     "metadata": {},
     "source": [
      "#Exercise 1\n",
      "\n",
      "*(pencil and paper)*\n",
      "\n",
      "Determine the null space of the matrix $A^T$, where $A$ is the matrix from equation (2.58) in the text. Use this to show that this equation has a solution only if equation (2.62) is satisfied.  "
     ]
    },
    {
     "cell_type": "markdown",
     "metadata": {},
     "source": [
      "#Exercise 2\n",
      "In this exercise, you will solve the nonlinear boundary value problem:\n",
      "\n",
      "$$\\begin{align*}\\theta''(t) = -\\sin(\\theta(t)) \\\\ \\theta(0)=\\alpha, \\quad \\quad \\theta(T)=\\beta\\end{align*}$$  \n",
      "\n",
      "corresponding to the motion a rigid pendulum, where $\\phi$ is the angle between the pendulum and the vertical axis (with $\\phi=0$ corresponding to the pendulum hanging directly downward).  \n",
      "  \n",
      "You should use Newton's method, which amounts to solving the system  \n",
      "$$J(\\theta^{[k]}) \\delta^{[k]} = - G(\\theta^{[k]})$$  \n",
      "where the superscript $[k]$ denotes the iteration number. The next iterative solution is then  \n",
      "$$\\theta^{[k]+1} = \\theta^{[k]} + \\delta^{[k]}.$$  \n",
      "The code below constructs $G$ and $J$."
     ]
    },
    {
     "cell_type": "code",
     "collapsed": false,
     "input": [
      "def G(theta,alpha,beta,h):\n",
      "    Gval = np.zeros(len(theta))\n",
      "    Gval[0] = theta[1]-2*theta[0]+alpha\n",
      "    Gval[1:-1] = theta[:-2]-2*theta[1:-1]+theta[2:]\n",
      "    Gval[-1] = theta[-2]-2*theta[-1]+beta\n",
      "    Gval /= h**2\n",
      "    Gval += np.sin(theta)\n",
      "    return Gval\n",
      "\n",
      "def J(theta,h,T):\n",
      "    m = T/h-1.\n",
      "    e = np.ones(m)\n",
      "    return 1./h**2*(np.diag(-2*e,0)+np.diag(e[:-1],-1)+np.diag(e[:-1],1))+np.diag(np.cos(theta))"
     ],
     "language": "python",
     "metadata": {},
     "outputs": [],
     "prompt_number": 1
    },
    {
     "cell_type": "markdown",
     "metadata": {},
     "source": [
      "Now for your part:\n",
      "\n",
      "(a) Write a program that solves the problem above (for given values of $T,\\alpha,\\beta$) by using Newton's method. Test your code with the boundary conditions and initial guesses given in the textbook. "
     ]
    },
    {
     "cell_type": "code",
     "collapsed": false,
     "input": [],
     "language": "python",
     "metadata": {},
     "outputs": []
    },
    {
     "cell_type": "markdown",
     "metadata": {},
     "source": [
      "(b) Try taking $T$ larger (perhaps $6\\pi, 8\\pi$, or larger) and see what kinds of solutions you can find. You will probably observe that Newton's method is very sensitive to the initial guess and often diverges (note that if it's going to converge, it usually won't take more than 10 iterations to do so). Make sure your initial guess satisfies the boundary conditions, and try adjusting it until you find some solutions. Can you find two initial guesses that are very close but converge to very different final solutions? You may also find solutions that have \"boundary layers\" (see section 2.17 of the text, if you're interested). Try to explain what physical behavior each solution corresponds to. "
     ]
    },
    {
     "cell_type": "code",
     "collapsed": false,
     "input": [],
     "language": "python",
     "metadata": {},
     "outputs": []
    }
   ],
   "metadata": {}
  }
 ]
}