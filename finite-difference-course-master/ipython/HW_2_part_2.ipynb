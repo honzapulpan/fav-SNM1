{
 "metadata": {
  "name": "HW_2_part_2"
 },
 "nbformat": 3,
 "nbformat_minor": 0,
 "worksheets": [
  {
   "cells": [
    {
     "cell_type": "markdown",
     "metadata": {},
     "source": [
      "#Exercise #3:\n",
      "*For this exercise, you may use the code from the week 3 lab notebook (either your own code, or that of the posted solution)*.\n",
      "\n",
      "Use the code from the week 3 lab notebook to set up the solution of the 2D BVP\n",
      "\n",
      "$$\\nabla^2 u = -(20y^3+9\\pi^2(y-y^5))\\sin(3\\pi x)$$  \n",
      "\n",
      "on the unit square $[0,1]\\times[0,1]$ with homogeneous Dirichlet boundary conditions (i.e., $u(x,y)=0$ everywhere on the boundary).\n",
      "\n",
      "(a) See how large you can take $m$ (the number of grid points in each direction) before the solution of the problem above gets very slow or runs out of memory (this will depend on the computer you're running on). What if you use the non-sparse version of $A$? How large can you take $m$ now before it becomes very slow or runs out of memory? Explain what is happening.  It may be usefull to check the amount of RAM that your computer has.  \n",
      "(b) Modify the code  to solve the boundary value problem<br />$$\\nabla^2 u = (2-\\pi^2 x^2)\\cos(\\pi y)$$<br />on the unit square $0<x,y<1$, with boundary conditions<br />$$u(0,y) = 0 \\quad \\quad u(1,y) = \\cos(\\pi y) \\quad \\quad u(x,0) = x^2 \\quad \\quad u(x,1)=-x^2.$$<br />The easiest way to implement the boundary conditions is by modifying the right hand side vector $F$.<br />Check your solution against the true solution $$u(x,y) = x^2 \\cos(\\pi y).$$  \n",
      "What is the rate of convergence?  "
     ]
    },
    {
     "cell_type": "code",
     "collapsed": false,
     "input": [],
     "language": "python",
     "metadata": {},
     "outputs": []
    }
   ],
   "metadata": {}
  }
 ]
}