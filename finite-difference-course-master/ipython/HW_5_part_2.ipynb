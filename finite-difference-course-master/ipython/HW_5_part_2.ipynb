{
 "metadata": {
  "name": "HW_5_part_2"
 },
 "nbformat": 3,
 "nbformat_minor": 0,
 "worksheets": [
  {
   "cells": [
    {
     "cell_type": "code",
     "collapsed": false,
     "input": [
      "%pylab inline\n",
      "import numpy as np\n",
      "import matplotlib.pyplot as plt\n",
      "from scipy.sparse import spdiags,linalg,diags,eye"
     ],
     "language": "python",
     "metadata": {},
     "outputs": []
    },
    {
     "cell_type": "code",
     "collapsed": false,
     "input": [
      "def A_matrix(m):\n",
      "    \"Centered 3-point approximation of the 2nd derivative on a grid with m+2 points, with Dirichlet boundary conditions.\"\n",
      "    h = 1./(m+1)\n",
      "    e0 = -2./h**2*np.ones(m+2); e0[0]=1.; e0[-1]=1.\n",
      "    e1 = 1./h**2*np.ones(m+1); e1[0]=0.;\n",
      "    em1 = 1./h**2*np.ones(m+1); em1[-1]=0.;\n",
      "    A = diags([em1,e0,e1],[-1,0,1])\n",
      "    return A"
     ],
     "language": "python",
     "metadata": {},
     "outputs": []
    },
    {
     "cell_type": "markdown",
     "metadata": {},
     "source": [
      "The following code implements the Crank-Nicolson method for solving the heat equation."
     ]
    },
    {
     "cell_type": "code",
     "collapsed": false,
     "input": [
      "def heat_CN(T,m):\n",
      "    r\"\"\"Compute solution to the heat equation at time T with m grid points.\"\"\"\n",
      "    \n",
      "    h = 1./(m+1)\n",
      "    k = h\n",
      "\n",
      "    M1 = eye(m+2,m+2) - k/2. * A_matrix(m)\n",
      "    M2 = eye(m+2,m+2) + k/2. * A_matrix(m)\n",
      "\n",
      "    x = np.linspace(0,1,m+2)\n",
      "    beta = 100.\n",
      "    U = exp(-(x-0.4)**2 / (1./beta))  # Initial data\n",
      "\n",
      "    t = 0. # Initial time\n",
      "    \n",
      "    nsteps = int(round(T/k))\n",
      "    if np.abs(k*nsteps-T)>1.e-5:\n",
      "        print \"Warning: k does not divide T: k= \", k\n",
      "\n",
      "    for n in range(nsteps):\n",
      "        t = t + k\n",
      "        b = M2.dot(U)\n",
      "        U = linalg.spsolve(M1,b)\n",
      "    return x,U"
     ],
     "language": "python",
     "metadata": {},
     "outputs": []
    },
    {
     "cell_type": "markdown",
     "metadata": {},
     "source": [
      "First, let's plot the initial condition by taking $T=0$:"
     ]
    },
    {
     "cell_type": "code",
     "collapsed": false,
     "input": [
      "x,U = heat_CN(0.,199)\n",
      "plt.plot(x,U)"
     ],
     "language": "python",
     "metadata": {},
     "outputs": []
    },
    {
     "cell_type": "markdown",
     "metadata": {},
     "source": [
      "Now let's compute the solution at $T=0.1$:"
     ]
    },
    {
     "cell_type": "code",
     "collapsed": false,
     "input": [
      "x,U = heat_CN(0.1,199)\n",
      "plt.plot(x,U)"
     ],
     "language": "python",
     "metadata": {},
     "outputs": []
    },
    {
     "cell_type": "markdown",
     "metadata": {},
     "source": [
      "It's clear that only the lowest-wavenumber mode is left at this point, as we would expect."
     ]
    },
    {
     "cell_type": "markdown",
     "metadata": {},
     "source": [
      "# Exercise 2\n",
      "Modify heat_CN to solve the heat equation for $-1 \\le x \\le 1$ with initial condition $U(x,0) = 2$ for $x<0$ and $U(x,0)=0$ for $x\\ge0$, with boundary conditions\n",
      "\n",
      "$$u(\\pm 1,t) = erfc \\left(\\pm 1/\\sqrt{4t}\\right).$$\n",
      "\n",
      "The exact solution is\n",
      "\n",
      "$$u(x,t) = erfc \\left(x/\\sqrt{4t}\\right)$$\n",
      "\n",
      "where erfc is the complementary error function\n",
      "\n",
      "$$erfc(x) = \\frac{2}{\\sqrt{\\pi}} \\int_x^\\infty e^{-z^2} dz.$$\n",
      "\n",
      "Test this routine $m = 39$ and $k = 4h$. Note that there is an initial rapid transient\n",
      "decay of the high wave numbers that is not captured well with this size time step."
     ]
    },
    {
     "cell_type": "code",
     "collapsed": false,
     "input": [],
     "language": "python",
     "metadata": {},
     "outputs": []
    },
    {
     "cell_type": "markdown",
     "metadata": {},
     "source": [
      "# Exercise 3\n",
      "Modify your code from the previous exercise to use the TR-BDF2 method.  Why does this method work better than Crank-Nicolson for this problem?"
     ]
    },
    {
     "cell_type": "code",
     "collapsed": false,
     "input": [],
     "language": "python",
     "metadata": {},
     "outputs": []
    }
   ],
   "metadata": {}
  }
 ]
}