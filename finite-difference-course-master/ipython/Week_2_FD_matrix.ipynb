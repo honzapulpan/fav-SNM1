{
 "metadata": {
  "name": "Week_2_FD_matrix"
 },
 "nbformat": 3,
 "nbformat_minor": 0,
 "worksheets": [
  {
   "cells": [
    {
     "cell_type": "code",
     "collapsed": false,
     "input": [
      "%pylab inline\n",
      "import numpy as np\n",
      "import matplotlib.pyplot as plt"
     ],
     "language": "python",
     "metadata": {},
     "outputs": []
    },
    {
     "cell_type": "markdown",
     "metadata": {},
     "source": [
      "Let's write a function to set up the matrix $$A=\\frac{1}{h^2}\\left(\\begin{array} -2 & 1 \\\\\\\\ 1 & -2 & 1 \\\\\\\\ & 1 & -2 & 1 \\\\\\\\ & & \\ddots & \\ddots & \\ddots \\\\\\\\  \n",
      "& & & 1 & -2 & 1 \\\\\\\\ & & & & 1 & -2\\end{array}\\right),$$  \n",
      "corresponding to a 2nd-order centered difference approximation of the second derivative operator $\\frac{d^2}{dx^2}$.\n",
      "\n",
      "We can use the np.diag() function to do this.  Here are a couple of examples of what diag does:"
     ]
    },
    {
     "cell_type": "code",
     "collapsed": false,
     "input": [
      "m=5\n",
      "e=np.ones(m)\n",
      "print np.diag(e,0)"
     ],
     "language": "python",
     "metadata": {},
     "outputs": []
    },
    {
     "cell_type": "code",
     "collapsed": false,
     "input": [
      "e=np.ones(m-1)\n",
      "print np.diag(e,-1)\n",
      "print np.diag(e,1)"
     ],
     "language": "python",
     "metadata": {},
     "outputs": []
    },
    {
     "cell_type": "markdown",
     "metadata": {},
     "source": [
      "**Use np.diag to implement a function that produces the matrix $A$ given above.  You may take $h=(b-a)/(m+1)$ with $a=0,b=1$.  Call your function A_matrix and design it to take a single argument, $m$.  Put the code for your function in the box below.**  The first line has been written for you."
     ]
    },
    {
     "cell_type": "code",
     "collapsed": false,
     "input": [
      "def A_matrix(m):"
     ],
     "language": "python",
     "metadata": {},
     "outputs": []
    },
    {
     "cell_type": "markdown",
     "metadata": {},
     "source": [
      "Let's see what this matrix looks like:"
     ]
    },
    {
     "cell_type": "code",
     "collapsed": false,
     "input": [
      "A_matrix(4)"
     ],
     "language": "python",
     "metadata": {},
     "outputs": []
    },
    {
     "cell_type": "markdown",
     "metadata": {},
     "source": [
      "Now let's find the eigenvalues (using a more reasonable value of $m$).  We can use np.linalg.eig to compute the eigenvalues, np.argsort to sort the eigenvalues and np.linalg.norm to compare the norm of $A^{-1}$."
     ]
    },
    {
     "cell_type": "code",
     "collapsed": false,
     "input": [
      "m=50\n",
      "A=A_matrix(m)\n",
      "[lamda,u]=np.linalg.eig(A)\n",
      "ind = np.argsort(abs(lamda))\n",
      "spectrum = lamda[ind]\n",
      "print 'Eigenvalues: ', spectrum\n",
      "B = np.linalg.inv(A)\n",
      "print 'Norm of A^{-1}:', np.linalg.norm(B,2)\n",
      "\n",
      "# sort the eigenvectors too\n",
      "v=np.zeros(np.shape(u))\n",
      "for i in range(len(ind)):\n",
      "    v[:,i]=u[:,ind[i]]"
     ],
     "language": "python",
     "metadata": {},
     "outputs": []
    },
    {
     "cell_type": "markdown",
     "metadata": {},
     "source": [
      "<strong>Note</strong>: <span style=\"color: #ff0000;\">Don't ever use a variable named \"lambda\" in Python, because \"lambda\" is a reserved word (it is used to define in-line functions).<br /></span>  \n",
      "Let's verify that the smallest eigenvalue is $\\lambda\\approx-\\pi^2$."
     ]
    },
    {
     "cell_type": "code",
     "collapsed": false,
     "input": [
      "a = 0.; b = 1.;\n",
      "h=(b-a)/(m+1)\n",
      "print 'Computed value: ', spectrum[0] # Computed value\n",
      "print '-pi^2: ', -np.pi**2 # Approximate value\n",
      "print (2./h**2)*(np.cos(np.pi*h)-1.) # Value obtained by analysis"
     ],
     "language": "python",
     "metadata": {},
     "outputs": []
    },
    {
     "cell_type": "markdown",
     "metadata": {},
     "source": [
      "Now let's see what the eigenvectors look like.  Try changing the value of $p$ below to see the different eigenvectors."
     ]
    },
    {
     "cell_type": "code",
     "collapsed": false,
     "input": [
      "p=12\n",
      "x=np.linspace(0,1,m+2)\n",
      "plt.clf()\n",
      "plt.plot(x[1:-1],v[:,p])\n",
      "plt.title('Eigenvector $u^'+str(p)+'$, corresponding to eigenvalue $\\lambda^'+str(p)+'='+str(spectrum[p])+'$')"
     ],
     "language": "python",
     "metadata": {},
     "outputs": []
    }
   ],
   "metadata": {}
  }
 ]
}