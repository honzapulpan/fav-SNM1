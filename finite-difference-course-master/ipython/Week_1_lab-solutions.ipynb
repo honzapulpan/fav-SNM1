{
 "metadata": {
  "name": "Week_1_lab-solutions"
 },
 "nbformat": 3,
 "nbformat_minor": 0,
 "worksheets": [
  {
   "cells": [
    {
     "cell_type": "markdown",
     "metadata": {},
     "source": [
      "Together with your teammate, write a Python script or function to do the following:\n",
      "\n",
      "1) Generate a set of $m+2$ equally-spaced points $0=x_0,x_1,x_2,\\dots,x_m+1=1$.  \n",
      "2) Evaluate the following function at those points: \n",
      "\n",
      "$$f(x) = 1 + x + 3x^2 + 2\\sin(5x)$$\n",
      "\n",
      "3) Evaluate the finite difference approximation\n",
      "\n",
      "$$f''(x) \\approx \\frac{f(x_{i-1}) - 2 f(x_i) + f(x_{i+1})}{h^2}$$\n",
      "\n",
      "for $i=2,3,\\dots,m$, where $h$ is the spacing between successive points.\n",
      "\n",
      "4) Plot the finite difference approximation and the exact values of the second derivative.\n",
      "\n",
      "Try running your function with different values of $m$ (starting with $m=1$) and check that its output tends to the exact second derivative as $m$ is increased.\n",
      "\n",
      "There are at least 3 different ways to program step 3:\n",
      "\n",
      "- Using a loop\n",
      "- Using matrix-vector multiplication\n",
      "- Using array slicing\n",
      "\n",
      "Can you code all 3?  Which is the fastest?  You can time any line of code in IPython using %timeit."
     ]
    },
    {
     "cell_type": "code",
     "collapsed": false,
     "input": [
      "%pylab inline\n",
      "import numpy as np\n",
      "import matplotlib.pyplot as plt\n",
      "\n",
      "\n",
      "def fpp(m,method='slice',do_plot=True):\n",
      "    x = np.linspace(0,1,m+2)\n",
      "    f = 1 + x + 3*x**2 + 2*np.sin(5*x)\n",
      "    h= 1./(m+1)\n",
      "    d2f = np.zeros(m+2)    \n",
      "    \n",
      "    if method=='loop':\n",
      "        for i in range(1,m+1):\n",
      "            d2f[i] = (f[i-1] - 2 *f[i] + f[i+1])/h**2\n",
      "    \n",
      "    elif method=='matvec':\n",
      "        e = np.ones(m+2)\n",
      "        A = (np.diag(-2*e,0)+np.diag(e[:-1],-1)+np.diag(e[:-1],1))/h**2\n",
      "        d2f = np.dot(A,f)\n",
      "\n",
      "    elif method=='slice':\n",
      "        d2f[1:-1] = (f[0:-2] - 2*f[1:-1] + f[2:])/h**2\n",
      "                \n",
      "    d2f_ex = 6 - 50*np.sin(5*x)\n",
      "    if do_plot:\n",
      "        plt.plot(x,d2f_ex,'k',x[1:-1],d2f[1:-1],'or')"
     ],
     "language": "python",
     "metadata": {},
     "outputs": [
      {
       "output_type": "stream",
       "stream": "stdout",
       "text": [
        "\n",
        "Welcome to pylab, a matplotlib-based Python environment [backend: module://IPython.zmq.pylab.backend_inline].\n",
        "For more information, type 'help(pylab)'.\n"
       ]
      }
     ],
     "prompt_number": 36
    },
    {
     "cell_type": "code",
     "collapsed": false,
     "input": [
      "fpp(15,method='matvec') # Check that the result seems correct"
     ],
     "language": "python",
     "metadata": {},
     "outputs": [
      {
       "output_type": "display_data",
       "png": "[encoded data removed]"
      }
     ],
     "prompt_number": 33
    },
    {
     "cell_type": "markdown",
     "metadata": {},
     "source": [
      "##Timing"
     ]
    },
    {
     "cell_type": "code",
     "collapsed": false,
     "input": [
      "%timeit fpp(1000,method='loop',do_plot=False)"
     ],
     "language": "python",
     "metadata": {},
     "outputs": [
      {
       "output_type": "stream",
       "stream": "stdout",
       "text": [
        "100 loops, best of 3: 8.11 ms per loop\n"
       ]
      }
     ],
     "prompt_number": 35
    },
    {
     "cell_type": "code",
     "collapsed": false,
     "input": [
      "%timeit fpp(1000,method='matvec',do_plot=False)"
     ],
     "language": "python",
     "metadata": {},
     "outputs": [
      {
       "output_type": "stream",
       "stream": "stdout",
       "text": [
        "10 loops, best of 3: 39.4 ms per loop\n"
       ]
      }
     ],
     "prompt_number": 37
    },
    {
     "cell_type": "code",
     "collapsed": false,
     "input": [
      "%timeit fpp(1000,method='slice',do_plot=False)"
     ],
     "language": "python",
     "metadata": {},
     "outputs": [
      {
       "output_type": "stream",
       "stream": "stdout",
       "text": [
        "1000 loops, best of 3: 254 us per loop\n"
       ]
      }
     ],
     "prompt_number": 38
    },
    {
     "cell_type": "markdown",
     "metadata": {},
     "source": [
      "The slice version is 40 times faster than the loop version!\n",
      "\n",
      "The matvec version is actually not as bad as it seems; here most of the time is spent constructing the large dense matrix, but that only needs to be done once even if we want to differentiate many functions.  We could also make it faster by using a sparse matrix."
     ]
    },
    {
     "cell_type": "markdown",
     "metadata": {},
     "source": [
      "Now add the following to your function:\n",
      "\n",
      "1) Compute the error of your approximation in the following grid-function norms:\n",
      "\n",
      "- $L_1: h\\sum_i |E(x_i)|$\n",
      "- $L_2: \\sqrt{h\\sum_i \\left(E(x_i)\\right)^2}$\n",
      "- $L_\\infty$: $\\max_i |E(x_i)|$\n",
      "\n",
      "2) Loop over the following values of $m$: $1,2,4,8,16$.  \n",
      "Compute the three error norms for each $m$-value.\n",
      "\n",
      "3) Estimate the convergence rate using the formula $E(h) \\approx Ch^p$.  *Hint: take the absolute value of both sides and then take the log.  What does the resulting equation describe, and what is the role of $p$?*"
     ]
    },
    {
     "cell_type": "code",
     "collapsed": false,
     "input": [
      "def fpp(m,do_plot=True):\n",
      "    x = np.linspace(0,1,m+2)\n",
      "    f = 1 + x + 3*x**2 + 2*np.sin(5*x)\n",
      "    h= 1./(m+1)\n",
      "    d2f = np.zeros(m+2)\n",
      "    d2f[1:-1] = (f[0:-2] - 2*f[1:-1] + f[2:])/h**2\n",
      "    d2f_ex = 6 - 50*np.sin(5*x)\n",
      "    \n",
      "    error_vector = d2f[1:-1] - d2f_ex[1:-1]\n",
      "    E1 = h*np.linalg.norm(error_vector,1)\n",
      "    E2 = h**(0.5)*np.linalg.norm(error_vector,2)    \n",
      "    Einf = np.linalg.norm(error_vector,np.inf)\n",
      "    if do_plot:\n",
      "        plt.plot(x,d2f_ex,'k',x[1:-1],d2f[1:-1],'or')\n",
      "    return E1, E2, Einf"
     ],
     "language": "python",
     "metadata": {},
     "outputs": [],
     "prompt_number": 41
    },
    {
     "cell_type": "code",
     "collapsed": false,
     "input": [
      "E1_list = []\n",
      "E2_list = []\n",
      "Einf_list = []\n",
      "\n",
      "m_values = np.array((1,2,4,8,16,32,64))\n",
      "for m in m_values:\n",
      "    E1, E2, Einf = fpp(m)\n",
      "    E1_list.append(E1)\n",
      "    E2_list.append(E2)\n",
      "    Einf_list.append(Einf)\n",
      "    \n",
      "plt.clf()\n",
      "h_values = 1./(m_values+1.)\n",
      "plt.loglog(h_values,E1_list,'k',h_values,E2_list,'r',h_values,Einf_list,'b')\n",
      "plt.xlabel('$h$'); plt.ylabel('Norm of error')\n",
      "plt.legend(('$L_1$ error','$L_2$ error', '$L_\\infty$ error'),loc='best')"
     ],
     "language": "python",
     "metadata": {},
     "outputs": [
      {
       "output_type": "pyout",
       "prompt_number": 61,
       "text": [
        "<matplotlib.legend.Legend at 0x104e9a150>"
       ]
      },
      {
       "output_type": "display_data",
       "png": "[encoded data removed]"
      }
     ],
     "prompt_number": 61
    },
    {
     "cell_type": "markdown",
     "metadata": {},
     "source": [
      "The rate of convergence is just the slope of the lines in the log-log plot above, since\n",
      "\n",
      "$$E \\approx C h^p$$\n",
      "\n",
      "implies\n",
      "\n",
      "$$\\log|E| \\approx \\log|C| + p\\log(h)$$\n",
      "\n",
      "Of course, for very large $h$ (small $m$) this approximation is not very good.  We can get the best estimate of the rate of convergence by using the largest two $m$-values and the formula\n",
      "\n",
      "$$\\frac{|E_1|}{|E_2|} \\approx \\frac{h_1^p}{h_2^p}$$\n",
      "\n",
      "which gives\n",
      "\n",
      "$$p \\approx \\frac{\\log\\left(|E_1/E_2|\\right)}{\\log{(h_1/h_2)}}$$."
     ]
    },
    {
     "cell_type": "code",
     "collapsed": false,
     "input": [
      "convergence_rate_1 = np.log(np.abs(E1_list[-2]/E1_list[-1]))/np.log(h_values[-2]/h_values[-1])\n",
      "convergence_rate_2 = np.log(np.abs(E2_list[-2]/E2_list[-1]))/np.log(h_values[-2]/h_values[-1])\n",
      "convergence_rate_inf = np.log(np.abs(Einf_list[-2]/Einf_list[-1]))/np.log(h_values[-2]/h_values[-1])\n",
      "print convergence_rate_1, convergence_rate_2, convergence_rate_inf"
     ],
     "language": "python",
     "metadata": {},
     "outputs": [
      {
       "output_type": "stream",
       "stream": "stdout",
       "text": [
        "1.98236824915 1.98914713717 1.99928422564\n"
       ]
      }
     ],
     "prompt_number": 65
    },
    {
     "cell_type": "markdown",
     "metadata": {},
     "source": [
      "We see that the observed convergence rate for all 3 methods is very close to the theoretical rate of 2."
     ]
    }
   ],
   "metadata": {}
  }
 ]
}