{
 "metadata": {
  "name": "Week_2_Grid_function_norms"
 },
 "nbformat": 3,
 "nbformat_minor": 0,
 "worksheets": [
  {
   "cells": [
    {
     "cell_type": "code",
     "collapsed": false,
     "input": [
      "%pylab inline\n",
      "import numpy as np\n",
      "import matplotlib.pyplot as plt"
     ],
     "language": "python",
     "metadata": {},
     "outputs": [
      {
       "output_type": "stream",
       "stream": "stdout",
       "text": [
        "\n",
        "Welcome to pylab, a matplotlib-based Python environment [backend: module://IPython.zmq.pylab.backend_inline].\n",
        "For more information, type 'help(pylab)'.\n"
       ]
      }
     ],
     "prompt_number": 15
    },
    {
     "cell_type": "markdown",
     "metadata": {},
     "source": [
      "# Grid function norms\n",
      "\n",
      "The material here is a supplement to Sections A.4-A.5 of the text.  In this worksheet we'll look at the right way to take a norm of a vector whose entries are values of a function."
     ]
    },
    {
     "cell_type": "markdown",
     "metadata": {},
     "source": [
      "*Note: the material in this section is a supplement to the section A.5 of the text.*\n",
      "\n",
      "The 1-norm of a vector $v \\in {\\mathbb R}^n$ is typically defined as\n",
      "\n",
      "$$\\|v\\|_1 = \\sum\\_{i=1}^n |v_i|.$$\n",
      "\n",
      "Meanwhile, the 1-norm of a function $u(x)$ is defined as\n",
      "\n",
      "$$\\|u(x)\\|_1 = \\int |u(x)| dx.$$"
     ]
    },
    {
     "cell_type": "markdown",
     "metadata": {},
     "source": [
      "Now let's suppose that we have a vector $v$ that approximates a function $u(x)$.  By this I mean that there is some set of points (a *grid*) $x_i, i=1,2,\\dots,n$ such that $v_i \\approx u(x_i)$.  \n",
      "\n",
      "You might expect that, since $v$ approximates $u(x)$, we'd also have $\\|v\\|_1 \\approx \\|u(x)\\|$.  But this isn't the case at all; for instance, consider the function $u(x)=1$ defined for $0\\le x \\le 2$, and let $v_i = 1$ for all $i$.  Then\n",
      "\n",
      "$$\\|u(x)\\| = \\int_0^2 1\\cdot dx = 2$$\n",
      "\n",
      "but\n",
      "\n",
      "$$\\|v\\| = \\sum_{i=1}^n 1 = n.$$\n",
      "\n",
      "What has gone wrong?  Take a moment to think about why these two norms are not equal, and what should be done."
     ]
    },
    {
     "cell_type": "markdown",
     "metadata": {},
     "source": [
      "For starters, the norm of $v$ depends on how many points we use to sample $u$, which doesn't seem right.  If you thought that we need to somehow normalize the vector norm of $v$ by dividing by the number of entries, you're on the right track.  However, dividing by $n$ would give us $\\|v\\| = 1$, which is still different from $\\|u(x)\\|$.\n",
      "\n",
      "A useful way to approach this is to remember the idea of a Riemann sum, from your high school calculus course.  A Riemann sum is an approximation of an integral based on using a finite number of point values of a function instead of the function itself.  Isn't that just what we're doing here with $v$?  Here is a graphical example of a Riemann sum:"
     ]
    },
    {
     "cell_type": "code",
     "collapsed": false,
     "input": [
      "f = lambda x: x*(2-x)\n",
      "x = np.linspace(0,2,20)\n",
      "fig = plt.figure()\n",
      "ax = fig.add_subplot(111)\n",
      "plt.plot(x,f(x))\n",
      "plt.hold(True)\n",
      "dx = x[1]-x[0]\n",
      "for xval in x:\n",
      "    fval = f(xval)\n",
      "    rect = plt.Rectangle((xval,0),dx,f(xval),fill=False,color='red')\n",
      "    ax.add_patch(rect)\n",
      "plt.hold(False)\n",
      "plt.show()"
     ],
     "language": "python",
     "metadata": {},
     "outputs": [
      {
       "output_type": "display_data",
       "png": "[encoded data removed]",
       "text": [
        "<matplotlib.figure.Figure at 0x106b20810>"
       ]
      }
     ],
     "prompt_number": 17
    },
    {
     "cell_type": "markdown",
     "metadata": {},
     "source": [
      "The area under the blue curve is approximated by the area of the red rectangles.  Each rectangle has width $h=2/n$, where $n$ is the number of rectangles.  Thus the total area of the rectangles is\n",
      "$$\\sum\\_{i=1}^n h f(x_i).$$\n",
      "\n",
      "We can scale the norm of our vector $v$ in the same way, multiplying each entry in $v$ by the distance $x_{i+1}-x_i$.  Assuming a grid with equally spaced points with spacing $h=(b-a)/n$ (where $a,b$ are the bounds of the domain of the function), this gives\n",
      "\n",
      "$$\\|v\\|_1 = h \\sum\\_{i=1}^n |v_i|.$$\n",
      "\n",
      "We refer to this as the *grid function 1-norm*.  Similarly, the *grid-function $p$-norm* is defined as\n",
      "\n",
      "$$\\|v\\|_p = \\left(h \\sum\\_{i=1}^n |v_i|^p\\right)^{1/p}.$$"
     ]
    },
    {
     "cell_type": "markdown",
     "metadata": {},
     "source": [
      "**Write down the formulas for the grid function 2-norm and the grid function $\\infty$-norm.  Do these make sense in light of the discussion above?  What integral or limit does each approximate?**"
     ]
    },
    {
     "cell_type": "markdown",
     "metadata": {},
     "source": [
      "**Fill in the blank: One thing that is still unclear to me after this week's reading is** __________"
     ]
    },
    {
     "cell_type": "markdown",
     "metadata": {},
     "source": []
    }
   ],
   "metadata": {}
  }
 ]
}