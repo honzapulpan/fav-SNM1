{
 "metadata": {
  "name": "Absolute_stability_examples"
 },
 "nbformat": 3,
 "nbformat_minor": 0,
 "worksheets": [
  {
   "cells": [
    {
     "cell_type": "code",
     "collapsed": false,
     "input": [
      "%pylab inline\n",
      "import numpy as np\n",
      "import matplotlib.pyplot as plt"
     ],
     "language": "python",
     "metadata": {},
     "outputs": []
    },
    {
     "cell_type": "markdown",
     "metadata": {},
     "source": [
      "In this worksheet we'll study the accuracy of the forward Euler method: $$U^{n+1} = U^n + k f(U^n)$$  "
     ]
    },
    {
     "cell_type": "code",
     "collapsed": false,
     "input": [
      "def Euler(u,t,k,f):\n",
      "    return u + k*f(u,t)"
     ],
     "language": "python",
     "metadata": {},
     "outputs": []
    },
    {
     "cell_type": "markdown",
     "metadata": {},
     "source": [
      "First let's consider the very simple initial value problem: $$u'(t) = - \\sin(t) \\ \\ \\ \\ \\ \\ u(0)=1$$ with solution $$u(t)=\\cos(t).$$  "
     ]
    },
    {
     "cell_type": "code",
     "collapsed": false,
     "input": [
      "f1 = lambda u,t: -np.sin(t)"
     ],
     "language": "python",
     "metadata": {},
     "outputs": []
    },
    {
     "cell_type": "markdown",
     "metadata": {},
     "source": [
      "We'll solve up to $T=2$ with a timestep $k=10^{-3}$. The error estimate we derived earlier: $$|E^n|\\le e^{LT} T \\|\\tau\\|_\\infty$$  \n",
      "reduces to $$|E^n|\\le T\\|\\tau\\|_\\infty \\approx k\\max |u''(t)| = k \\max|\\cos(t)| = k.$$  "
     ]
    },
    {
     "cell_type": "code",
     "collapsed": false,
     "input": [
      "T=2\n",
      "k=0.001\n",
      "t=np.arange(0,T,k)\n",
      "U=np.zeros(len(t))\n",
      "U[0]=1\n",
      "for n in range(len(t)-1):\n",
      "    U[n+1]=Euler(U[n],t[n],k,f1)\n",
      "u=np.cos(t)\n",
      "plt.clf()\n",
      "plt.plot(t,u,'k',t,U,'r--',linewidth=3)\n",
      "plt.legend(['Exact','Computed'])"
     ],
     "language": "python",
     "metadata": {},
     "outputs": []
    },
    {
     "cell_type": "markdown",
     "metadata": {},
     "source": [
      "We can compute the error $$|U^N - \\cos(2)|$$ and see that it is indeed less than $k=10^{-3}$:  "
     ]
    },
    {
     "cell_type": "code",
     "collapsed": false,
     "input": [
      "print abs(u[-1]-U[-1])"
     ],
     "language": "python",
     "metadata": {},
     "outputs": []
    },
    {
     "cell_type": "markdown",
     "metadata": {},
     "source": [
      "Now let's consider a more interesting equation: $$u'(t) = \\lambda (u-\\cos(t))-\\sin(t) \\ \\ \\ \\ \\ \\ \\ \\ \\ \\ \\ \\ \\ u(0)=1.$$  \n",
      "It's easy to check that the solution is the same: $u(t)=\\cos(t)$, independent of $\\lambda$. However, our error estimate does depend on $\\lambda$, since $\\lambda$ is the Lipschitz constant for $f$:  \n",
      "$$|E^n|\\le e^{|\\lambda|T} T \\|\\tau\\|_\\infty.$$  \n",
      "We'll first take $\\lambda=-10$ and use the same timestep as before.  "
     ]
    },
    {
     "cell_type": "code",
     "collapsed": false,
     "input": [
      "f2 = lambda u,t: -10*(u-np.cos(t))-np.sin(t)\n",
      "T=2\n",
      "k=0.001\n",
      "t=np.arange(0,T,k)\n",
      "U=np.zeros(len(t))\n",
      "U[0]=1\n",
      "for n in range(len(t)-1):\n",
      "    U[n+1]=Euler(U[n],t[n],k,f2)\n",
      "    \n",
      "plt.clf()\n",
      "plt.plot(t,u,'k',t,U,'r--',linewidth=3)\n",
      "plt.legend(['Exact','Computed'])"
     ],
     "language": "python",
     "metadata": {},
     "outputs": []
    },
    {
     "cell_type": "markdown",
     "metadata": {},
     "source": [
      "We again find the error to be very small -- in fact it's even smaller this time!  "
     ]
    },
    {
     "cell_type": "code",
     "collapsed": false,
     "input": [
      "u=np.cos(t)\n",
      "print abs(u[-1]-U[-1])"
     ],
     "language": "python",
     "metadata": {},
     "outputs": []
    },
    {
     "cell_type": "markdown",
     "metadata": {},
     "source": [
      "Now let's repeat the same but with a larger value $\\lambda=-2100$.  "
     ]
    },
    {
     "cell_type": "code",
     "collapsed": false,
     "input": [
      "f3 = lambda u,t: -2100*(u-np.cos(t))-np.sin(t)\n",
      "T=2\n",
      "k=0.001\n",
      "t=np.arange(0,T,k)\n",
      "U=np.zeros(len(t))\n",
      "U[0]=1\n",
      "for n in range(len(t)-1):\n",
      "    U[n+1]=Euler(U[n],t[n],k,f3)\n",
      "    \n",
      "plt.clf()\n",
      "plt.plot(t,u,'k',t,U,'r--',linewidth=3)\n",
      "plt.legend(['Exact','Computed'])"
     ],
     "language": "python",
     "metadata": {},
     "outputs": []
    },
    {
     "cell_type": "markdown",
     "metadata": {},
     "source": [
      "How large is the error now? Does it satisfy our error estimate?  "
     ]
    },
    {
     "cell_type": "code",
     "collapsed": false,
     "input": [
      "u=np.cos(t)\n",
      "print abs(u[-1]-U[-1])"
     ],
     "language": "python",
     "metadata": {},
     "outputs": []
    }
   ],
   "metadata": {}
  }
 ]
}