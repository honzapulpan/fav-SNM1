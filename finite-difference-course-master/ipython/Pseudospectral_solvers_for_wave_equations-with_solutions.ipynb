{
 "metadata": {
  "name": "Pseudospectral_solvers_for_wave_equations-with_solutions"
 },
 "nbformat": 3,
 "nbformat_minor": 0,
 "worksheets": [
  {
   "cells": [
    {
     "cell_type": "markdown",
     "metadata": {},
     "source": [
      "Note: The code used here is adapted from the MATLAB code of Program 27 of Trefethen's *Spectral Methods in Matlab*."
     ]
    },
    {
     "cell_type": "code",
     "collapsed": false,
     "input": [
      "%pylab inline\n",
      "import numpy as np\n",
      "import scipy.optimize\n",
      "import scipy.sparse\n",
      "import matplotlib.pyplot as plt\n",
      "from IPython.display import clear_output\n",
      "import time"
     ],
     "language": "python",
     "metadata": {},
     "outputs": [
      {
       "output_type": "stream",
       "stream": "stdout",
       "text": [
        "\n",
        "Welcome to pylab, a matplotlib-based Python environment [backend: module://IPython.zmq.pylab.backend_inline].\n",
        "For more information, type 'help(pylab)'.\n"
       ]
      }
     ],
     "prompt_number": 1
    },
    {
     "cell_type": "markdown",
     "metadata": {},
     "source": [
      "#Burgers' equation\n",
      "\n",
      "In this notebook, we'll solve some nonlinear wave equations, starting with the viscous Burgers' equation:\n",
      "$$u_t + uu_x = \\epsilon u_{xx}.$$\n",
      "We'll use a Fourier pseudospectral method with an integrating factor.  This equation includes both a nonlinear term ($uu_x$) and a dissipative term ($u_{xx}$).\n",
      "The nonlinear term causes steepening, which involves generation of high frequency modes.  For $\\epsilon \\ll 1$, the dissipative term only becomes important when the solution gets very steep; it prevents the formation of shock waves (discontinuities)."
     ]
    },
    {
     "cell_type": "markdown",
     "metadata": {},
     "source": [
      "We can rewrite Burgers' equation as\n",
      "$$\n",
      "u_t + \\frac{1}{2}(u^2)_x = \\epsilon u\\_{xx}.\n",
      "$$\n",
      "\n",
      "Taking the Fourier transform, we replace each $x$-derivative by $i \\xi$ and replace $u$ by it's Fourier transform $\\hat{u}$:\n",
      "$$\n",
      "u_t + \\frac{i}{2}\\xi \\hat{u^2} = -\\xi^2 \\epsilon \\hat{u}.\n",
      "$$\n",
      "As discussed in class, the dissipative term (involving $\\xi^2$) leads to stiffness.  However, we can get rid of it by multiplying everything by the *integrating factor* $\\exp(\\xi^2 \\epsilon t)$.  This gives\n",
      "$$\n",
      "e^{\\xi^2 \\epsilon t} \\hat{u}_t + \\frac{i}{2}\\xi e^{\\xi^2 \\epsilon t} \\hat{u^2} = -\\xi^2 \\epsilon e^{\\xi^2 \\epsilon t}\\hat{u}.\n",
      "$$\n",
      "Next we define $\\hat{U} = e^{\\xi^2 \\epsilon t} \\hat{u}$.  Then $\\hat{U}_t = \\xi^2 \\epsilon \\hat{U} + e^{\\xi^2 \\epsilon t} \\hat{u}_t$.  So we get\n",
      "$$\n",
      "\\hat{U}_t - \\xi^2 \\epsilon \\hat{U}  + \\frac{i}{2}\\xi e^{\\xi^2 \\epsilon t} \\hat{u^2} = -\\xi^2 \\epsilon \\hat{U}.\n",
      "$$\n",
      "Now the stiff terms cancel, leaving\n",
      "$$\n",
      "\\hat{U}_t  + \\frac{i}{2}\\xi e^{\\xi^2 \\epsilon t} \\hat{u^2} = 0.\n",
      "$$\n",
      "We can view this as a semi-discretization of the original PDE, but in the frequency domain.  We'll solve the problem in the frequency domain, but in order to evaluate the nonlinear term $\\hat{u^2}$, we'll use the technique of *pseudospectral collocation*.  That means that we'll Fourier transform back to the spatial domain, compute $u^2$, and then transform back to the frequency domain.  The semi-discretization then looks like this:\n",
      "$$\\hat{U}'(t) = - \\frac{i}{2}\\xi \\exp(\\xi^2 \\epsilon t)k{\\mathcal F}(({\\mathcal F}^{-1}(\\exp(-\\xi^2 \\epsilon t)\\hat{U}))^2).$$\n",
      "Here ${\\mathcal F}$ is the Fourier transform.\n",
      "\n",
      "Finally, we need to discretize in time.  We'll use the 4th order Runge-Kutta method.  The code implementing all of this is below."
     ]
    },
    {
     "cell_type": "code",
     "collapsed": false,
     "input": [
      "epsilon = 0.25\n",
      "\n",
      "# Grid\n",
      "m = 64\n",
      "x = np.arange(-m/2,m/2)*(2*np.pi/m)\n",
      "k = 1./m**2\n",
      "tmax = 3.\n",
      "\n",
      "# Initial data\n",
      "u = np.sin(x)**2 * (x<0.)\n",
      "v = np.fft.fft(u)\n",
      "\n",
      "xi = np.array([range(0,m/2) + [0] + range(-m/2+1,0)])\n",
      "eps_xi2 = epsilon * xi**2.\n",
      "g = -0.5j * k * xi\n",
      "E = np.exp(-k*eps_xi2/2.)\n",
      "E2 = E**2\n",
      "\n",
      "nplt = np.floor((tmax/25)/k)\n",
      "nmax = int(round(tmax/k))\n",
      "\n",
      "for n in range(1,nmax+1):\n",
      "    # Runge-Kutta stages\n",
      "    a = g*np.fft.fft(np.real(np.fft.ifft(v))**2)\n",
      "    b = g*np.fft.fft(np.real(np.fft.ifft(E*(v+a/2.)))**2)\n",
      "    c = g*np.fft.fft(np.real(np.fft.ifft(E*v + b/2) )**2)\n",
      "    d = g*np.fft.fft(np.real(np.fft.ifft(E2*v + E*c))**2)\n",
      "    v = E2*v + (E2*a + 2*E*(b+c) + d)/6.\n",
      "    \n",
      "    t = n*k\n",
      "    # Plotting\n",
      "    if np.mod(n,nplt) == 0:\n",
      "        u = np.squeeze(np.real(np.fft.ifft(v)))\n",
      "        plt.clf()\n",
      "        plt.plot(x,u,linewidth=3)\n",
      "        plt.title('t='+str(t))\n",
      "        plt.xlim((-np.pi,np.pi))\n",
      "        plt.ylim((0.,1.))\n",
      "        time.sleep(0.2)\n",
      "        clear_output()\n",
      "        fi=plt.gcf()\n",
      "        display(fi)  \n",
      "        plt.clf()"
     ],
     "language": "python",
     "metadata": {},
     "outputs": [
      {
       "output_type": "display_data",
       "png": "[encoded data removed]",
       "text": [
        "<matplotlib.figure.Figure at 0x1067b9a90>"
       ]
      }
     ],
     "prompt_number": 2
    },
    {
     "cell_type": "markdown",
     "metadata": {},
     "source": [
      "Can you identify the effects of the nonlinear and dissipative terms in the solution you see?  Try reducing $\\epsilon$.  What happens?  Is your numerical solution still accurate?  What if you also increase $m$?"
     ]
    },
    {
     "cell_type": "markdown",
     "metadata": {},
     "source": [
      "# Korteweg-de Vries (KdV) equation\n",
      "\n",
      "Burgers' equation is interesting, but it has a much more remarkable cousin: the KdV equation:\n",
      "\n",
      "$$u_t + uu_x + u_{xxx} = 0$$\n",
      "\n",
      "We'll solve this using the same approach: a Fourier pseudospectral method with an integrating factor.  This equation includes both a nonlinear term ($uu_x$) and a dispersive term ($u_{xxx}$).\n",
      "The nonlinear term again causes steepening, which involves generation of high frequency modes, while the dispersive term dramatically modifies the propagation of those high-frequency modes.  The combination can lead to remarkable effects, as we will see."
     ]
    },
    {
     "cell_type": "markdown",
     "metadata": {},
     "source": [
      "First, however, we need to deal with a major computational difficulty.  The $u_{xxx}$ term would lead to an even more stiff system of ODEs.  To avoid this, we'll again multiply the whole equation by an integrating factor.  This time the factor we need is easily seen to be $\\exp(-i\\xi^3 t)$, which leads to the equation\n",
      "$$\\hat{U}_t + \\frac{i}{2} \\xi \\exp(-ik^3 t)\\hat{u^2} = 0.$$\n",
      "\n",
      "Here $\\hat{u}$ is the Fourier transform of $u$ and $\\hat{U}=\\exp(-i\\xi^3 t)U$.  So our semi-discretization is\n",
      "\n",
      "$$\\hat{U}'(t) = - \\frac{i}{2}\\xi \\exp(-i\\xi^3 t){\\mathcal F}(({\\mathcal F}^{-1}(\\exp(i\\xi^3 t)\\hat{U}))^2).$$\n",
      "\n",
      "**Modify the code for solving Burgers' equation above to solve the KdV equation.** A suggested initial condition has already been provided.  You should find that taking $k=0.4/m^2$ gives a stable time step.\n",
      "\n",
      "*Hint: you should only need to change the line that sets E.*"
     ]
    },
    {
     "cell_type": "code",
     "collapsed": false,
     "input": [
      "m = 256\n",
      "k = 0.4/m**2\n",
      "x = np.arange(-m/2,m/2)*(2*np.pi/m)\n",
      "u = 500*np.exp(-(x+2)**2 * 5) * (x<0.)\n",
      "v = np.fft.fft(u)\n",
      "xsi = np.array([range(0,m/2) + [0] + range(-m/2+1,0)])\n",
      "ixsi3 = 1j*xsi**3.\n",
      "\n",
      "tmax = 0.026\n",
      "nplt = np.floor((tmax/50)/k)\n",
      "nmax = int(round(tmax/k))\n",
      "\n",
      "g = -0.5j * k * xsi\n",
      "E = np.exp(k*ixsi3/2.)\n",
      "E2 = E**2\n",
      "\n",
      "for n in range(1,nmax+1):\n",
      "    a = g*np.fft.fft(np.real(np.fft.ifft(v))**2)\n",
      "    b = g*np.fft.fft(np.real(np.fft.ifft(E*(v+a/2.)))**2)\n",
      "    c = g*np.fft.fft(np.real(np.fft.ifft(E*v + b/2) )**2)\n",
      "    d = g*np.fft.fft(np.real(np.fft.ifft(E2*v + E*c))**2)\n",
      "    v = E2*v + (E2*a + 2*E*(b+c) + d)/6.\n",
      "    \n",
      "    t = n*k\n",
      "    if np.mod(n,nplt) == 0:\n",
      "        u = np.squeeze(np.real(np.fft.ifft(v)))\n",
      "        plt.clf()\n",
      "        plt.plot(x,u,linewidth=3)\n",
      "        plt.title('t='+str(t))\n",
      "        time.sleep(0.2)\n",
      "        clear_output()\n",
      "        fi=plt.gcf()\n",
      "        display(fi)  \n",
      "        plt.clf()"
     ],
     "language": "python",
     "metadata": {},
     "outputs": [
      {
       "output_type": "display_data",
       "png": "[encoded data removed]",
       "text": [
        "<matplotlib.figure.Figure at 0x106948290>"
       ]
      }
     ],
     "prompt_number": 10
    },
    {
     "cell_type": "markdown",
     "metadata": {},
     "source": [
      "The separate waves that quickly emerge, known as solitons, are very special solutions.  The KdV equation is nonlinear, so its solutions will generally change shape over time.  However, solitons are special *traveling wave* solutions that simply translate without changing shape.  Even when two of them collide, the only effect they have on each other is through a *phase shift*.  You can see this effect by using the initial data below."
     ]
    },
    {
     "cell_type": "code",
     "collapsed": false,
     "input": [
      "A = 25; B = 16;\n",
      "u = 3*A**2/np.cosh(0.5*(A*(x+2.)))**2 + 3*B**2/np.cosh(0.5*(B*(x+1)))**2"
     ],
     "language": "python",
     "metadata": {},
     "outputs": []
    },
    {
     "cell_type": "markdown",
     "metadata": {},
     "source": [
      "The KdV equation has many remarkable properties.  It is used as a model for shallow water waves, and the soliton solutions can even be observed in real life; they were noticed for the first time by [John Scott Russell](http://www.ma.hw.ac.uk/~chris/scott_russell.html) as he rode his horse by a shipping canal.  The KdV equation is one of the simplest examples of an exactly integrable PDE and can be solved analytically by the [inverse scattering transform](http://en.wikipedia.org/wiki/Inverse_scattering_transform), which connects it to Schrodinger's equation!\n",
      "\n",
      "Try experimenting with this solver by using different initial conditions or by changing the coefficient of the dispersive term.  What happens if the initial condition is negative rather than positive?  What if the dispersive term is multiplied by a small parameter $\\epsilon\\ll 1$?"
     ]
    },
    {
     "cell_type": "code",
     "collapsed": false,
     "input": [],
     "language": "python",
     "metadata": {},
     "outputs": []
    }
   ],
   "metadata": {}
  }
 ]
}