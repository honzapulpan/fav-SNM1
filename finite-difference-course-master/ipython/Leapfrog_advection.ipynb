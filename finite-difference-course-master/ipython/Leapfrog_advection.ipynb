{
 "metadata": {
  "name": "Leapfrog advection"
 },
 "nbformat": 3,
 "nbformat_minor": 0,
 "worksheets": [
  {
   "cells": [
    {
     "cell_type": "code",
     "collapsed": false,
     "input": [
      "%pylab inline\n",
      "import numpy as np\n",
      "import matplotlib.pyplot as plt\n",
      "import time\n",
      "from IPython.display import clear_output"
     ],
     "language": "python",
     "metadata": {},
     "outputs": []
    },
    {
     "cell_type": "code",
     "collapsed": false,
     "input": [
      "def eta(x,IC='gaussian'):\n",
      "    \"\"\"Initial condition\"\"\"\n",
      "    x=np.remainder(x,1.) # Periodic\n",
      "    if IC=='gaussian':\n",
      "        return np.exp(-100*(x-0.5)**2)\n",
      "    elif IC=='square':\n",
      "        return 1.0*(x>0.05)*(x<0.25)\n",
      "    elif IC=='sawtooth':\n",
      "        n = np.arange(len(x))\n",
      "        return (-1.)**n*np.exp(-100*(x-0.5)**2)\n",
      "    else:\n",
      "        raise Exception('Unrecognized initial condition')"
     ],
     "language": "python",
     "metadata": {},
     "outputs": []
    },
    {
     "cell_type": "code",
     "collapsed": false,
     "input": [
      "def FD_advection(a=1.,cflnum=0.9,m=50,IC='gaussian'):\n",
      "    \"\"\"Solve the advection equation using the Leapfrog method:\n",
      "       Centered differences in space and time.\"\"\"\n",
      "    \n",
      "    x=np.linspace(0,1,m+1)[:-1]\n",
      "    u=eta(x,IC)\n",
      "\n",
      "    h=x[1]-x[0]        # Grid spacing\n",
      "    k=cflnum*h/a       # Time step\n",
      "    T=1.               # Final time\n",
      "    N=int(round(T/k))  # Number of steps\n",
      "\n",
      "    # To start, take one step with forward Euler:\n",
      "    uold = u.copy()\n",
      "    u[1:-1] = u[1:-1]- 0.5*cflnum*(u[2:]-u[:-2])\n",
      "    u[-1]   = u[-1]  - 0.5*cflnum*(u[0] -u[-2]) # Periodic BCs\n",
      "    u[0]    = u[0]   - 0.5*cflnum*(u[1] -u[-1])\n",
      "    unew=np.zeros(np.size(u))\n",
      "\n",
      "    plt.clf()\n",
      "    plt.hold(False)\n",
      "\n",
      "    for n in xrange(1,N+1):\n",
      "        t=n*k\n",
      "        plt.plot(x,u,'-o',x,eta(x-t*a,IC),'-k')\n",
      "        plt.ylim([-0.1,1.1])\n",
      "        plt.legend(['computed','exact'],loc='best')\n",
      "        \n",
      "        time.sleep(0.2)\n",
      "        clear_output()\n",
      "        f=plt.gcf()\n",
      "        display(f)  \n",
      "        plt.clf()\n",
      "        \n",
      "\n",
      "        unew[1:-1]=uold[1:-1]-cflnum*(u[2:]-u[:-2])\n",
      "        unew[0]=uold[0]-cflnum*(u[1]-u[-1])\n",
      "        unew[-1]=uold[-1]-cflnum*(u[0]-u[-2])\n",
      "        uold=u.copy()\n",
      "        u=unew.copy()\n",
      "\n",
      "    t=(N+1)*k\n",
      "    #pl.plot(x,u)\n",
      "    plt.plot(x,u,'-o',x,eta(x-t*a,IC),'-k')\n",
      "    plt.ylim([-0.1,1.1])\n",
      "    plt.legend(['computed','exact'],loc='best')\n",
      "    time.sleep(0.2)\n",
      "    clear_output()\n",
      "    f=plt.gcf()\n",
      "    display(f)  \n",
      "    plt.clf()"
     ],
     "language": "python",
     "metadata": {},
     "outputs": []
    },
    {
     "cell_type": "code",
     "collapsed": false,
     "input": [
      "FD_advection(m=50,IC='gaussian')"
     ],
     "language": "python",
     "metadata": {},
     "outputs": []
    },
    {
     "cell_type": "code",
     "collapsed": false,
     "input": [
      "FD_advection(m=500,IC='square')"
     ],
     "language": "python",
     "metadata": {},
     "outputs": []
    },
    {
     "cell_type": "code",
     "collapsed": false,
     "input": [
      "FD_advection(m=50,IC='sawtooth')"
     ],
     "language": "python",
     "metadata": {},
     "outputs": []
    }
   ],
   "metadata": {}
  }
 ]
}